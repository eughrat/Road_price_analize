{
 "cells": [
  {
   "cell_type": "markdown",
   "id": "2827ca42",
   "metadata": {},
   "source": [
    "# ROAD COST ANALYSIS \n",
    "\n",
    "## PART I - DATA ANALYSIS"
   ]
  },
  {
   "cell_type": "markdown",
   "id": "ef9b6bc8",
   "metadata": {},
   "source": [
    "### Introduction\n",
    "In this part of the project, we will analyze the previously prepared data on road construction costs in Poland.\n",
    "\n",
    "The original data contains the following columns:\n",
    "\n",
    "* 'Elementy_rozliczeniowe': Billing elements\n",
    "* 'Jednostka': Measure unite\n",
    "* 'Ilosc': Quantity\n",
    "* 'Cena_jedn': Unit price\n",
    "* 'Wartosc_calkowita': Total value\n",
    "* 'Droga': Road number\n",
    "* 'Rok': Year\n",
    "* 'Dlugosc_drogi': Road length\n",
    "* 'Kategoria_robot': Road number\n",
    "* 'Kategoria_drogi': Category of construction works\n",
    "* 'Cena_jedn_per_km': Unit price per km\n",
    "* 'Wartosc_calkowita_per_km': Total value per km"
   ]
  },
  {
   "cell_type": "markdown",
   "id": "e9d9395b",
   "metadata": {},
   "source": [
    "**Import Libraries**"
   ]
  },
  {
   "cell_type": "code",
   "execution_count": 1,
   "id": "06b704b7",
   "metadata": {},
   "outputs": [],
   "source": [
    "import pandas as pd\n",
    "import numpy as np\n",
    "import matplotlib.pyplot as plt\n",
    "import seaborn as sns\n",
    "\n",
    "%matplotlib inline"
   ]
  },
  {
   "cell_type": "markdown",
   "id": "c4b120df",
   "metadata": {},
   "source": [
    "**Read the excel file**"
   ]
  },
  {
   "cell_type": "code",
   "execution_count": 2,
   "id": "cff75a0f",
   "metadata": {},
   "outputs": [],
   "source": [
    "road_data = pd.read_excel('..\\Projekt_Analiza_Danych\\DATA\\Road_cost_analysis.xlsx')"
   ]
  },
  {
   "cell_type": "markdown",
   "id": "caf171ad",
   "metadata": {},
   "source": [
    "**Checking the basic informations of the DataFrame**"
   ]
  },
  {
   "cell_type": "code",
   "execution_count": 3,
   "id": "696122a4",
   "metadata": {},
   "outputs": [
    {
     "name": "stdout",
     "output_type": "stream",
     "text": [
      "<class 'pandas.core.frame.DataFrame'>\n",
      "RangeIndex: 2105 entries, 0 to 2104\n",
      "Data columns (total 25 columns):\n",
      " #   Column                           Non-Null Count  Dtype         \n",
      "---  ------                           --------------  -----         \n",
      " 0   Elementy_rozliczeniowe           2105 non-null   object        \n",
      " 1   Jednostka                        2105 non-null   object        \n",
      " 2   Ilosc                            2103 non-null   float64       \n",
      " 3   Cena_jedn                        2105 non-null   float64       \n",
      " 4   Wartosc_calkowita                2103 non-null   float64       \n",
      " 5   Droga                            2105 non-null   object        \n",
      " 6   Rok                              2105 non-null   datetime64[ns]\n",
      " 7   Kategoria_robot                  2105 non-null   object        \n",
      " 8   Kategoria_drogi                  2105 non-null   object        \n",
      " 9   Dlugosc_drogi                    2105 non-null   float64       \n",
      " 10  Cena_jedn_per_km                 2105 non-null   float64       \n",
      " 11  Ilosc_per_km                     2103 non-null   float64       \n",
      " 12  Wartosc_calkowita_per_km         2103 non-null   float64       \n",
      " 13  Cena_jedn_kat                    2105 non-null   float64       \n",
      " 14  Ilosc_kat                        2103 non-null   float64       \n",
      " 15  Wartosc_calkowita_kat            2103 non-null   float64       \n",
      " 16  Cena_jedn_per_km_kat             2105 non-null   float64       \n",
      " 17  Ilosc_per_km_kat                 2103 non-null   float64       \n",
      " 18  Wartosc_calkowita_per_km_kat     2103 non-null   float64       \n",
      " 19  Cena_jedn_calosc                 2105 non-null   float64       \n",
      " 20  Ilosc_calosc                     2103 non-null   float64       \n",
      " 21  Wartosc_calkowita_calosc         2103 non-null   float64       \n",
      " 22  Cena_jedn_per_km_calosc          2105 non-null   float64       \n",
      " 23  Ilosc_per_km_calosc              2103 non-null   float64       \n",
      " 24  Wartosc_calkowita_per_km_calosc  2103 non-null   float64       \n",
      "dtypes: datetime64[ns](1), float64(19), object(5)\n",
      "memory usage: 411.3+ KB\n"
     ]
    }
   ],
   "source": [
    "road_data.info()"
   ]
  },
  {
   "cell_type": "code",
   "execution_count": 4,
   "id": "3fe0c473",
   "metadata": {},
   "outputs": [
    {
     "data": {
      "text/html": [
       "<div>\n",
       "<style scoped>\n",
       "    .dataframe tbody tr th:only-of-type {\n",
       "        vertical-align: middle;\n",
       "    }\n",
       "\n",
       "    .dataframe tbody tr th {\n",
       "        vertical-align: top;\n",
       "    }\n",
       "\n",
       "    .dataframe thead th {\n",
       "        text-align: right;\n",
       "    }\n",
       "</style>\n",
       "<table border=\"1\" class=\"dataframe\">\n",
       "  <thead>\n",
       "    <tr style=\"text-align: right;\">\n",
       "      <th></th>\n",
       "      <th>Elementy_rozliczeniowe</th>\n",
       "      <th>Jednostka</th>\n",
       "      <th>Ilosc</th>\n",
       "      <th>Cena_jedn</th>\n",
       "      <th>Wartosc_calkowita</th>\n",
       "      <th>Droga</th>\n",
       "      <th>Rok</th>\n",
       "      <th>Kategoria_robot</th>\n",
       "      <th>Kategoria_drogi</th>\n",
       "      <th>Dlugosc_drogi</th>\n",
       "      <th>...</th>\n",
       "      <th>Wartosc_calkowita_kat</th>\n",
       "      <th>Cena_jedn_per_km_kat</th>\n",
       "      <th>Ilosc_per_km_kat</th>\n",
       "      <th>Wartosc_calkowita_per_km_kat</th>\n",
       "      <th>Cena_jedn_calosc</th>\n",
       "      <th>Ilosc_calosc</th>\n",
       "      <th>Wartosc_calkowita_calosc</th>\n",
       "      <th>Cena_jedn_per_km_calosc</th>\n",
       "      <th>Ilosc_per_km_calosc</th>\n",
       "      <th>Wartosc_calkowita_per_km_calosc</th>\n",
       "    </tr>\n",
       "  </thead>\n",
       "  <tbody>\n",
       "    <tr>\n",
       "      <th>0</th>\n",
       "      <td>Koszt dostosowania się do wymagań ogólnych zaw...</td>\n",
       "      <td>ryczałt</td>\n",
       "      <td>1.0</td>\n",
       "      <td>280864.20</td>\n",
       "      <td>280864.20</td>\n",
       "      <td>DK12ZW</td>\n",
       "      <td>2019-01-01</td>\n",
       "      <td>WARUNKI OGOLNE</td>\n",
       "      <td>Krajowa</td>\n",
       "      <td>24.24</td>\n",
       "      <td>...</td>\n",
       "      <td>114001.142130</td>\n",
       "      <td>4703.017415</td>\n",
       "      <td>0.016745</td>\n",
       "      <td>4703.017415</td>\n",
       "      <td>32534.398394</td>\n",
       "      <td>0.115837</td>\n",
       "      <td>32534.398394</td>\n",
       "      <td>1342.178152</td>\n",
       "      <td>0.004779</td>\n",
       "      <td>1342.178152</td>\n",
       "    </tr>\n",
       "    <tr>\n",
       "      <th>1</th>\n",
       "      <td>Dokumentacja realizacyjno-technologiczna i dok...</td>\n",
       "      <td>ryczałt</td>\n",
       "      <td>1.0</td>\n",
       "      <td>33703.70</td>\n",
       "      <td>33703.70</td>\n",
       "      <td>DK12ZW</td>\n",
       "      <td>2019-01-01</td>\n",
       "      <td>WARUNKI OGOLNE</td>\n",
       "      <td>Krajowa</td>\n",
       "      <td>24.24</td>\n",
       "      <td>...</td>\n",
       "      <td>13680.135432</td>\n",
       "      <td>564.362023</td>\n",
       "      <td>0.016745</td>\n",
       "      <td>564.362023</td>\n",
       "      <td>3904.127344</td>\n",
       "      <td>0.115837</td>\n",
       "      <td>3904.127344</td>\n",
       "      <td>161.061359</td>\n",
       "      <td>0.004779</td>\n",
       "      <td>161.061359</td>\n",
       "    </tr>\n",
       "    <tr>\n",
       "      <th>2</th>\n",
       "      <td>Koszt utrzymania dróg, po których odbywać się ...</td>\n",
       "      <td>ryczałt</td>\n",
       "      <td>1.0</td>\n",
       "      <td>224691.36</td>\n",
       "      <td>224691.36</td>\n",
       "      <td>DK12ZW</td>\n",
       "      <td>2019-01-01</td>\n",
       "      <td>WARUNKI OGOLNE</td>\n",
       "      <td>Krajowa</td>\n",
       "      <td>24.24</td>\n",
       "      <td>...</td>\n",
       "      <td>91200.913704</td>\n",
       "      <td>3762.413932</td>\n",
       "      <td>0.016745</td>\n",
       "      <td>3762.413932</td>\n",
       "      <td>26027.518715</td>\n",
       "      <td>0.115837</td>\n",
       "      <td>26027.518715</td>\n",
       "      <td>1073.742521</td>\n",
       "      <td>0.004779</td>\n",
       "      <td>1073.742521</td>\n",
       "    </tr>\n",
       "    <tr>\n",
       "      <th>3</th>\n",
       "      <td>Saperskie sprawdzenie terenu pod kątem niewypa...</td>\n",
       "      <td>ryczałt</td>\n",
       "      <td>1.0</td>\n",
       "      <td>33703.70</td>\n",
       "      <td>33703.70</td>\n",
       "      <td>DK12ZW</td>\n",
       "      <td>2019-01-01</td>\n",
       "      <td>WARUNKI OGOLNE</td>\n",
       "      <td>Krajowa</td>\n",
       "      <td>24.24</td>\n",
       "      <td>...</td>\n",
       "      <td>13680.135432</td>\n",
       "      <td>564.362023</td>\n",
       "      <td>0.016745</td>\n",
       "      <td>564.362023</td>\n",
       "      <td>3904.127344</td>\n",
       "      <td>0.115837</td>\n",
       "      <td>3904.127344</td>\n",
       "      <td>161.061359</td>\n",
       "      <td>0.004779</td>\n",
       "      <td>161.061359</td>\n",
       "    </tr>\n",
       "    <tr>\n",
       "      <th>4</th>\n",
       "      <td>Nadzór archeologiczny wraz z wykonaniem ratown...</td>\n",
       "      <td>ryczałt</td>\n",
       "      <td>1.0</td>\n",
       "      <td>28086.42</td>\n",
       "      <td>28086.42</td>\n",
       "      <td>DK12ZW</td>\n",
       "      <td>2019-01-01</td>\n",
       "      <td>WARUNKI OGOLNE</td>\n",
       "      <td>Krajowa</td>\n",
       "      <td>24.24</td>\n",
       "      <td>...</td>\n",
       "      <td>11400.114213</td>\n",
       "      <td>470.301741</td>\n",
       "      <td>0.016745</td>\n",
       "      <td>470.301741</td>\n",
       "      <td>3253.439839</td>\n",
       "      <td>0.115837</td>\n",
       "      <td>3253.439839</td>\n",
       "      <td>134.217815</td>\n",
       "      <td>0.004779</td>\n",
       "      <td>134.217815</td>\n",
       "    </tr>\n",
       "  </tbody>\n",
       "</table>\n",
       "<p>5 rows × 25 columns</p>\n",
       "</div>"
      ],
      "text/plain": [
       "                              Elementy_rozliczeniowe Jednostka  Ilosc  \\\n",
       "0  Koszt dostosowania się do wymagań ogólnych zaw...   ryczałt    1.0   \n",
       "1  Dokumentacja realizacyjno-technologiczna i dok...   ryczałt    1.0   \n",
       "2  Koszt utrzymania dróg, po których odbywać się ...   ryczałt    1.0   \n",
       "3  Saperskie sprawdzenie terenu pod kątem niewypa...   ryczałt    1.0   \n",
       "4  Nadzór archeologiczny wraz z wykonaniem ratown...   ryczałt    1.0   \n",
       "\n",
       "   Cena_jedn  Wartosc_calkowita   Droga        Rok Kategoria_robot  \\\n",
       "0  280864.20          280864.20  DK12ZW 2019-01-01  WARUNKI OGOLNE   \n",
       "1   33703.70           33703.70  DK12ZW 2019-01-01  WARUNKI OGOLNE   \n",
       "2  224691.36          224691.36  DK12ZW 2019-01-01  WARUNKI OGOLNE   \n",
       "3   33703.70           33703.70  DK12ZW 2019-01-01  WARUNKI OGOLNE   \n",
       "4   28086.42           28086.42  DK12ZW 2019-01-01  WARUNKI OGOLNE   \n",
       "\n",
       "  Kategoria_drogi  Dlugosc_drogi  ...  Wartosc_calkowita_kat  \\\n",
       "0         Krajowa          24.24  ...          114001.142130   \n",
       "1         Krajowa          24.24  ...           13680.135432   \n",
       "2         Krajowa          24.24  ...           91200.913704   \n",
       "3         Krajowa          24.24  ...           13680.135432   \n",
       "4         Krajowa          24.24  ...           11400.114213   \n",
       "\n",
       "   Cena_jedn_per_km_kat  Ilosc_per_km_kat  Wartosc_calkowita_per_km_kat  \\\n",
       "0           4703.017415          0.016745                   4703.017415   \n",
       "1            564.362023          0.016745                    564.362023   \n",
       "2           3762.413932          0.016745                   3762.413932   \n",
       "3            564.362023          0.016745                    564.362023   \n",
       "4            470.301741          0.016745                    470.301741   \n",
       "\n",
       "   Cena_jedn_calosc  Ilosc_calosc  Wartosc_calkowita_calosc  \\\n",
       "0      32534.398394      0.115837              32534.398394   \n",
       "1       3904.127344      0.115837               3904.127344   \n",
       "2      26027.518715      0.115837              26027.518715   \n",
       "3       3904.127344      0.115837               3904.127344   \n",
       "4       3253.439839      0.115837               3253.439839   \n",
       "\n",
       "   Cena_jedn_per_km_calosc  Ilosc_per_km_calosc  \\\n",
       "0              1342.178152             0.004779   \n",
       "1               161.061359             0.004779   \n",
       "2              1073.742521             0.004779   \n",
       "3               161.061359             0.004779   \n",
       "4               134.217815             0.004779   \n",
       "\n",
       "   Wartosc_calkowita_per_km_calosc  \n",
       "0                      1342.178152  \n",
       "1                       161.061359  \n",
       "2                      1073.742521  \n",
       "3                       161.061359  \n",
       "4                       134.217815  \n",
       "\n",
       "[5 rows x 25 columns]"
      ]
     },
     "execution_count": 4,
     "metadata": {},
     "output_type": "execute_result"
    }
   ],
   "source": [
    "road_data.head()"
   ]
  },
  {
   "cell_type": "code",
   "execution_count": 5,
   "id": "04e80738",
   "metadata": {},
   "outputs": [
    {
     "data": {
      "text/html": [
       "<div>\n",
       "<style scoped>\n",
       "    .dataframe tbody tr th:only-of-type {\n",
       "        vertical-align: middle;\n",
       "    }\n",
       "\n",
       "    .dataframe tbody tr th {\n",
       "        vertical-align: top;\n",
       "    }\n",
       "\n",
       "    .dataframe thead th {\n",
       "        text-align: right;\n",
       "    }\n",
       "</style>\n",
       "<table border=\"1\" class=\"dataframe\">\n",
       "  <thead>\n",
       "    <tr style=\"text-align: right;\">\n",
       "      <th></th>\n",
       "      <th>Ilosc</th>\n",
       "      <th>Cena_jedn</th>\n",
       "      <th>Wartosc_calkowita</th>\n",
       "      <th>Dlugosc_drogi</th>\n",
       "      <th>Cena_jedn_per_km</th>\n",
       "      <th>Ilosc_per_km</th>\n",
       "      <th>Wartosc_calkowita_per_km</th>\n",
       "      <th>Cena_jedn_kat</th>\n",
       "      <th>Ilosc_kat</th>\n",
       "      <th>Wartosc_calkowita_kat</th>\n",
       "      <th>Cena_jedn_per_km_kat</th>\n",
       "      <th>Ilosc_per_km_kat</th>\n",
       "      <th>Wartosc_calkowita_per_km_kat</th>\n",
       "      <th>Cena_jedn_calosc</th>\n",
       "      <th>Ilosc_calosc</th>\n",
       "      <th>Wartosc_calkowita_calosc</th>\n",
       "      <th>Cena_jedn_per_km_calosc</th>\n",
       "      <th>Ilosc_per_km_calosc</th>\n",
       "      <th>Wartosc_calkowita_per_km_calosc</th>\n",
       "    </tr>\n",
       "  </thead>\n",
       "  <tbody>\n",
       "    <tr>\n",
       "      <th>count</th>\n",
       "      <td>2103.000000</td>\n",
       "      <td>2.105000e+03</td>\n",
       "      <td>2.103000e+03</td>\n",
       "      <td>2105.000000</td>\n",
       "      <td>2105.000000</td>\n",
       "      <td>2103.000000</td>\n",
       "      <td>2.103000e+03</td>\n",
       "      <td>2105.000000</td>\n",
       "      <td>2103.000000</td>\n",
       "      <td>2.103000e+03</td>\n",
       "      <td>2105.000000</td>\n",
       "      <td>2103.000000</td>\n",
       "      <td>2103.000000</td>\n",
       "      <td>2105.000000</td>\n",
       "      <td>2103.000000</td>\n",
       "      <td>2.103000e+03</td>\n",
       "      <td>2105.000000</td>\n",
       "      <td>2103.000000</td>\n",
       "      <td>2103.000000</td>\n",
       "    </tr>\n",
       "    <tr>\n",
       "      <th>mean</th>\n",
       "      <td>13444.852454</td>\n",
       "      <td>1.047572e+04</td>\n",
       "      <td>4.092476e+05</td>\n",
       "      <td>11.493145</td>\n",
       "      <td>1080.077065</td>\n",
       "      <td>1401.019417</td>\n",
       "      <td>4.273183e+04</td>\n",
       "      <td>1304.472729</td>\n",
       "      <td>2576.439019</td>\n",
       "      <td>7.799199e+04</td>\n",
       "      <td>105.096354</td>\n",
       "      <td>198.751038</td>\n",
       "      <td>6165.867604</td>\n",
       "      <td>635.122876</td>\n",
       "      <td>888.870594</td>\n",
       "      <td>2.634419e+04</td>\n",
       "      <td>50.060806</td>\n",
       "      <td>64.249510</td>\n",
       "      <td>1955.689485</td>\n",
       "    </tr>\n",
       "    <tr>\n",
       "      <th>std</th>\n",
       "      <td>36049.174818</td>\n",
       "      <td>1.754202e+05</td>\n",
       "      <td>1.043331e+06</td>\n",
       "      <td>5.812868</td>\n",
       "      <td>14337.053080</td>\n",
       "      <td>4381.102275</td>\n",
       "      <td>1.156106e+05</td>\n",
       "      <td>16591.376649</td>\n",
       "      <td>11143.605576</td>\n",
       "      <td>3.294163e+05</td>\n",
       "      <td>1305.346467</td>\n",
       "      <td>820.416353</td>\n",
       "      <td>24006.534509</td>\n",
       "      <td>10665.775700</td>\n",
       "      <td>3130.213120</td>\n",
       "      <td>8.906380e+04</td>\n",
       "      <td>838.288265</td>\n",
       "      <td>172.269783</td>\n",
       "      <td>4985.810343</td>\n",
       "    </tr>\n",
       "    <tr>\n",
       "      <th>min</th>\n",
       "      <td>0.070000</td>\n",
       "      <td>1.170000e+00</td>\n",
       "      <td>2.599000e+01</td>\n",
       "      <td>0.800000</td>\n",
       "      <td>0.062706</td>\n",
       "      <td>0.008662</td>\n",
       "      <td>1.917596e+00</td>\n",
       "      <td>0.006703</td>\n",
       "      <td>0.001948</td>\n",
       "      <td>9.592667e-01</td>\n",
       "      <td>0.008379</td>\n",
       "      <td>0.000645</td>\n",
       "      <td>0.186121</td>\n",
       "      <td>0.004473</td>\n",
       "      <td>0.001300</td>\n",
       "      <td>6.401223e-01</td>\n",
       "      <td>0.005591</td>\n",
       "      <td>0.000335</td>\n",
       "      <td>0.124200</td>\n",
       "    </tr>\n",
       "    <tr>\n",
       "      <th>25%</th>\n",
       "      <td>44.000000</td>\n",
       "      <td>3.279000e+01</td>\n",
       "      <td>1.200336e+04</td>\n",
       "      <td>7.080000</td>\n",
       "      <td>2.853365</td>\n",
       "      <td>4.144645</td>\n",
       "      <td>1.261849e+03</td>\n",
       "      <td>2.831343</td>\n",
       "      <td>3.941369</td>\n",
       "      <td>1.111453e+03</td>\n",
       "      <td>0.292532</td>\n",
       "      <td>0.434311</td>\n",
       "      <td>120.681037</td>\n",
       "      <td>1.422840</td>\n",
       "      <td>1.673898</td>\n",
       "      <td>5.001159e+02</td>\n",
       "      <td>0.156695</td>\n",
       "      <td>0.210265</td>\n",
       "      <td>57.361010</td>\n",
       "    </tr>\n",
       "    <tr>\n",
       "      <th>50%</th>\n",
       "      <td>443.000000</td>\n",
       "      <td>7.433000e+01</td>\n",
       "      <td>5.983145e+04</td>\n",
       "      <td>10.780000</td>\n",
       "      <td>8.613162</td>\n",
       "      <td>49.919743</td>\n",
       "      <td>6.657242e+03</td>\n",
       "      <td>8.742465</td>\n",
       "      <td>44.171412</td>\n",
       "      <td>6.635804e+03</td>\n",
       "      <td>0.900536</td>\n",
       "      <td>4.843097</td>\n",
       "      <td>649.058293</td>\n",
       "      <td>3.657268</td>\n",
       "      <td>21.545637</td>\n",
       "      <td>2.788110e+03</td>\n",
       "      <td>0.355204</td>\n",
       "      <td>2.116984</td>\n",
       "      <td>285.919191</td>\n",
       "    </tr>\n",
       "    <tr>\n",
       "      <th>75%</th>\n",
       "      <td>5604.465000</td>\n",
       "      <td>3.376000e+02</td>\n",
       "      <td>2.845398e+05</td>\n",
       "      <td>12.980000</td>\n",
       "      <td>41.574859</td>\n",
       "      <td>568.069318</td>\n",
       "      <td>2.984189e+04</td>\n",
       "      <td>44.315912</td>\n",
       "      <td>630.915241</td>\n",
       "      <td>3.606517e+04</td>\n",
       "      <td>4.411253</td>\n",
       "      <td>59.731775</td>\n",
       "      <td>2932.200012</td>\n",
       "      <td>17.227296</td>\n",
       "      <td>270.851401</td>\n",
       "      <td>1.640953e+04</td>\n",
       "      <td>1.613304</td>\n",
       "      <td>26.782304</td>\n",
       "      <td>1359.742775</td>\n",
       "    </tr>\n",
       "    <tr>\n",
       "      <th>max</th>\n",
       "      <td>496551.690000</td>\n",
       "      <td>5.617284e+06</td>\n",
       "      <td>1.423980e+07</td>\n",
       "      <td>24.240000</td>\n",
       "      <td>450825.357143</td>\n",
       "      <td>113356.025000</td>\n",
       "      <td>2.943856e+06</td>\n",
       "      <td>515708.824398</td>\n",
       "      <td>201547.437468</td>\n",
       "      <td>5.779852e+06</td>\n",
       "      <td>40226.897379</td>\n",
       "      <td>17213.142424</td>\n",
       "      <td>422986.743939</td>\n",
       "      <td>344134.475002</td>\n",
       "      <td>57518.937999</td>\n",
       "      <td>1.649492e+06</td>\n",
       "      <td>26843.562793</td>\n",
       "      <td>2372.893482</td>\n",
       "      <td>68048.365379</td>\n",
       "    </tr>\n",
       "  </tbody>\n",
       "</table>\n",
       "</div>"
      ],
      "text/plain": [
       "               Ilosc     Cena_jedn  Wartosc_calkowita  Dlugosc_drogi  \\\n",
       "count    2103.000000  2.105000e+03       2.103000e+03    2105.000000   \n",
       "mean    13444.852454  1.047572e+04       4.092476e+05      11.493145   \n",
       "std     36049.174818  1.754202e+05       1.043331e+06       5.812868   \n",
       "min         0.070000  1.170000e+00       2.599000e+01       0.800000   \n",
       "25%        44.000000  3.279000e+01       1.200336e+04       7.080000   \n",
       "50%       443.000000  7.433000e+01       5.983145e+04      10.780000   \n",
       "75%      5604.465000  3.376000e+02       2.845398e+05      12.980000   \n",
       "max    496551.690000  5.617284e+06       1.423980e+07      24.240000   \n",
       "\n",
       "       Cena_jedn_per_km   Ilosc_per_km  Wartosc_calkowita_per_km  \\\n",
       "count       2105.000000    2103.000000              2.103000e+03   \n",
       "mean        1080.077065    1401.019417              4.273183e+04   \n",
       "std        14337.053080    4381.102275              1.156106e+05   \n",
       "min            0.062706       0.008662              1.917596e+00   \n",
       "25%            2.853365       4.144645              1.261849e+03   \n",
       "50%            8.613162      49.919743              6.657242e+03   \n",
       "75%           41.574859     568.069318              2.984189e+04   \n",
       "max       450825.357143  113356.025000              2.943856e+06   \n",
       "\n",
       "       Cena_jedn_kat      Ilosc_kat  Wartosc_calkowita_kat  \\\n",
       "count    2105.000000    2103.000000           2.103000e+03   \n",
       "mean     1304.472729    2576.439019           7.799199e+04   \n",
       "std     16591.376649   11143.605576           3.294163e+05   \n",
       "min         0.006703       0.001948           9.592667e-01   \n",
       "25%         2.831343       3.941369           1.111453e+03   \n",
       "50%         8.742465      44.171412           6.635804e+03   \n",
       "75%        44.315912     630.915241           3.606517e+04   \n",
       "max    515708.824398  201547.437468           5.779852e+06   \n",
       "\n",
       "       Cena_jedn_per_km_kat  Ilosc_per_km_kat  Wartosc_calkowita_per_km_kat  \\\n",
       "count           2105.000000       2103.000000                   2103.000000   \n",
       "mean             105.096354        198.751038                   6165.867604   \n",
       "std             1305.346467        820.416353                  24006.534509   \n",
       "min                0.008379          0.000645                      0.186121   \n",
       "25%                0.292532          0.434311                    120.681037   \n",
       "50%                0.900536          4.843097                    649.058293   \n",
       "75%                4.411253         59.731775                   2932.200012   \n",
       "max            40226.897379      17213.142424                 422986.743939   \n",
       "\n",
       "       Cena_jedn_calosc  Ilosc_calosc  Wartosc_calkowita_calosc  \\\n",
       "count       2105.000000   2103.000000              2.103000e+03   \n",
       "mean         635.122876    888.870594              2.634419e+04   \n",
       "std        10665.775700   3130.213120              8.906380e+04   \n",
       "min            0.004473      0.001300              6.401223e-01   \n",
       "25%            1.422840      1.673898              5.001159e+02   \n",
       "50%            3.657268     21.545637              2.788110e+03   \n",
       "75%           17.227296    270.851401              1.640953e+04   \n",
       "max       344134.475002  57518.937999              1.649492e+06   \n",
       "\n",
       "       Cena_jedn_per_km_calosc  Ilosc_per_km_calosc  \\\n",
       "count              2105.000000          2103.000000   \n",
       "mean                 50.060806            64.249510   \n",
       "std                 838.288265           172.269783   \n",
       "min                   0.005591             0.000335   \n",
       "25%                   0.156695             0.210265   \n",
       "50%                   0.355204             2.116984   \n",
       "75%                   1.613304            26.782304   \n",
       "max               26843.562793          2372.893482   \n",
       "\n",
       "       Wartosc_calkowita_per_km_calosc  \n",
       "count                      2103.000000  \n",
       "mean                       1955.689485  \n",
       "std                        4985.810343  \n",
       "min                           0.124200  \n",
       "25%                          57.361010  \n",
       "50%                         285.919191  \n",
       "75%                        1359.742775  \n",
       "max                       68048.365379  "
      ]
     },
     "execution_count": 5,
     "metadata": {},
     "output_type": "execute_result"
    }
   ],
   "source": [
    "road_data.describe()"
   ]
  },
  {
   "cell_type": "markdown",
   "id": "a10280d3",
   "metadata": {},
   "source": [
    "**Visualize the cost of particular road**"
   ]
  },
  {
   "cell_type": "code",
   "execution_count": 6,
   "id": "41671b33",
   "metadata": {},
   "outputs": [
    {
     "data": {
      "text/plain": [
       "<Figure size 864x576 with 0 Axes>"
      ]
     },
     "execution_count": 6,
     "metadata": {},
     "output_type": "execute_result"
    },
    {
     "data": {
      "image/png": "[encoded data removed]",
      "text/plain": [
       "<Figure size 432x288 with 1 Axes>"
      ]
     },
     "metadata": {
      "needs_background": "light"
     },
     "output_type": "display_data"
    },
    {
     "data": {
      "text/plain": [
       "<Figure size 864x576 with 0 Axes>"
      ]
     },
     "metadata": {},
     "output_type": "display_data"
    }
   ],
   "source": [
    "road_data.groupby(['Droga'], as_index=False).agg({'Wartosc_calkowita': 'sum'}).sort_values(by=['Wartosc_calkowita'],ascending=False).plot.bar(x='Droga', y='Wartosc_calkowita',label='Koszt budowy drogi [x 100 mln zł]',)\n",
    "plt.legend(bbox_to_anchor=(1.05, 1), loc=2, borderaxespad=0.)\n",
    "plt.figure(figsize=(12,8))"
   ]
  },
  {
   "cell_type": "markdown",
   "id": "37da5288",
   "metadata": {},
   "source": [
    "**Visualize the length of particular road**"
   ]
  },
  {
   "cell_type": "code",
   "execution_count": 7,
   "id": "4931a13c",
   "metadata": {},
   "outputs": [
    {
     "data": {
      "text/plain": [
       "<Figure size 864x576 with 0 Axes>"
      ]
     },
     "execution_count": 7,
     "metadata": {},
     "output_type": "execute_result"
    },
    {
     "data": {
      "image/png": "[encoded data removed]",
      "text/plain": [
       "<Figure size 432x288 with 1 Axes>"
      ]
     },
     "metadata": {
      "needs_background": "light"
     },
     "output_type": "display_data"
    },
    {
     "data": {
      "text/plain": [
       "<Figure size 864x576 with 0 Axes>"
      ]
     },
     "metadata": {},
     "output_type": "display_data"
    }
   ],
   "source": [
    "road_data.groupby(['Droga'], as_index=False).agg({'Dlugosc_drogi': 'max'}).sort_values(by=['Dlugosc_drogi'],ascending=False).plot.bar(x='Droga', y='Dlugosc_drogi',label='Długość drogi [km]')\n",
    "plt.legend(bbox_to_anchor=(1.05, 1), loc=2, borderaxespad=0.)\n",
    "plt.figure(figsize=(12,8))"
   ]
  },
  {
   "cell_type": "markdown",
   "id": "d2d92a4c",
   "metadata": {},
   "source": [
    "**Visualize the cost of 1 km of particular road**"
   ]
  },
  {
   "cell_type": "code",
   "execution_count": 8,
   "id": "a643855f",
   "metadata": {},
   "outputs": [
    {
     "data": {
      "text/plain": [
       "<Figure size 864x576 with 0 Axes>"
      ]
     },
     "execution_count": 8,
     "metadata": {},
     "output_type": "execute_result"
    },
    {
     "data": {
      "image/png": "[encoded data removed]",
      "text/plain": [
       "<Figure size 432x288 with 1 Axes>"
      ]
     },
     "metadata": {
      "needs_background": "light"
     },
     "output_type": "display_data"
    },
    {
     "data": {
      "text/plain": [
       "<Figure size 864x576 with 0 Axes>"
      ]
     },
     "metadata": {},
     "output_type": "display_data"
    }
   ],
   "source": [
    "road_data.groupby(['Droga'], as_index=False).agg({'Wartosc_calkowita_per_km': 'sum'}).sort_values(by=['Wartosc_calkowita_per_km'],ascending=False).plot.bar(x='Droga', y='Wartosc_calkowita_per_km',label='Koszt budowy 1 km drogi [x 10 mln zł]')\n",
    "plt.legend(bbox_to_anchor=(1.05, 1), loc=2, borderaxespad=0.)\n",
    "plt.figure(figsize=(12,8))"
   ]
  },
  {
   "cell_type": "markdown",
   "id": "56c97d0c",
   "metadata": {},
   "source": [
    "**Visualize the average cost of 1 km of particular road category**"
   ]
  },
  {
   "cell_type": "code",
   "execution_count": 9,
   "id": "e103392c",
   "metadata": {},
   "outputs": [
    {
     "data": {
      "text/plain": [
       "<Figure size 864x576 with 0 Axes>"
      ]
     },
     "execution_count": 9,
     "metadata": {},
     "output_type": "execute_result"
    },
    {
     "data": {
      "image/png": "[encoded data removed]",
      "text/plain": [
       "<Figure size 432x288 with 1 Axes>"
      ]
     },
     "metadata": {
      "needs_background": "light"
     },
     "output_type": "display_data"
    },
    {
     "data": {
      "text/plain": [
       "<Figure size 864x576 with 0 Axes>"
      ]
     },
     "metadata": {},
     "output_type": "display_data"
    }
   ],
   "source": [
    "road_data.groupby(['Kategoria_drogi'], as_index=False).agg({'Wartosc_calkowita_per_km_kat': 'sum'}).sort_values(by=['Wartosc_calkowita_per_km_kat'],ascending=False).plot.bar(x='Kategoria_drogi', y='Wartosc_calkowita_per_km_kat',label='Sredni koszt budowy 1 km drogi danej kategori [x 1 mln zł]')\n",
    "plt.legend(bbox_to_anchor=(1.05, 1), loc=2, borderaxespad=0.)\n",
    "plt.figure(figsize=(12,8))"
   ]
  },
  {
   "cell_type": "markdown",
   "id": "196cf305",
   "metadata": {},
   "source": [
    "**Visualize the average cost of 1 km of particular road work category**"
   ]
  },
  {
   "cell_type": "code",
   "execution_count": 10,
   "id": "14f9312b",
   "metadata": {},
   "outputs": [
    {
     "data": {
      "text/plain": [
       "<Figure size 864x576 with 0 Axes>"
      ]
     },
     "execution_count": 10,
     "metadata": {},
     "output_type": "execute_result"
    },
    {
     "data": {
      "image/png": "[encoded data removed]",
      "text/plain": [
       "<Figure size 432x288 with 1 Axes>"
      ]
     },
     "metadata": {
      "needs_background": "light"
     },
     "output_type": "display_data"
    },
    {
     "data": {
      "text/plain": [
       "<Figure size 864x576 with 0 Axes>"
      ]
     },
     "metadata": {},
     "output_type": "display_data"
    }
   ],
   "source": [
    "road_data.groupby(['Kategoria_robot'], as_index=False).agg({'Wartosc_calkowita_per_km_calosc': 'sum'}).sort_values(by=['Wartosc_calkowita_per_km_calosc'],ascending=False).plot.bar(x='Kategoria_robot', y='Wartosc_calkowita_per_km_calosc',label='Sredni koszt budowy 1 km kategorii robot [x 1 mln zł]')\n",
    "plt.legend(bbox_to_anchor=(1.05, 1), loc=2, borderaxespad=0.)\n",
    "plt.figure(figsize=(12,8))"
   ]
  },
  {
   "cell_type": "markdown",
   "id": "dcd01282",
   "metadata": {},
   "source": [
    "**Visualize the average cost of 1 km of particular road work category for Country type roads**"
   ]
  },
  {
   "cell_type": "code",
   "execution_count": null,
   "id": "6abbb86a",
   "metadata": {},
   "outputs": [],
   "source": []
  },
  {
   "cell_type": "markdown",
   "id": "6a4afc60",
   "metadata": {},
   "source": [
    "**Visualize the average cost of 1 km of particular road work category for Voivodeship type roads**"
   ]
  },
  {
   "cell_type": "code",
   "execution_count": null,
   "id": "051ff867",
   "metadata": {},
   "outputs": [],
   "source": []
  },
  {
   "cell_type": "markdown",
   "id": "c17f33f6",
   "metadata": {},
   "source": [
    "**Visualize the average cost of 1 km of particular road work category for County type roads**"
   ]
  },
  {
   "cell_type": "code",
   "execution_count": null,
   "id": "e6fbef5f",
   "metadata": {},
   "outputs": [],
   "source": [
    "\n"
   ]
  },
  {
   "cell_type": "code",
   "execution_count": 16,
   "id": "2e6166a5",
   "metadata": {},
   "outputs": [],
   "source": [
    "# dayHour = road_data.groupby(by=['Rok','Kategoria_robot']).count()['Cena_jedn_calosc'].unstack()\n",
    "# dayHour.head()"
   ]
  },
  {
   "cell_type": "code",
   "execution_count": null,
   "id": "11bae061",
   "metadata": {},
   "outputs": [],
   "source": []
  },
  {
   "cell_type": "code",
   "execution_count": null,
   "id": "d5331d01",
   "metadata": {},
   "outputs": [],
   "source": []
  },
  {
   "cell_type": "code",
   "execution_count": 60,
   "id": "179d387d",
   "metadata": {},
   "outputs": [
    {
     "data": {
      "image/png": "[encoded data removed]",
      "text/plain": [
       "<Figure size 864x576 with 3 Axes>"
      ]
     },
     "metadata": {
      "needs_background": "light"
     },
     "output_type": "display_data"
    }
   ],
   "source": [
    "fig, ax = plt.subplots(nrows=1, ncols=3, figsize=(12,8))\n",
    "\n",
    "road_data[road_data['Kategoria_drogi'] == 'Krajowa'].groupby(('Kategoria_robot'), as_index=False).agg({'Wartosc_calkowita_per_km_calosc': 'sum'}).sort_values(by=['Wartosc_calkowita_per_km_calosc'],ascending=False).plot.bar(x='Kategoria_robot', y='Wartosc_calkowita_per_km_calosc',ax=ax[0])\n",
    "ax[0].set_xlabel('Kategoria robot')\n",
    "ax[0].set_ylabel('Koszt')\n",
    "ax[0].set_title('Drogi Krajowe')\n",
    "ax[0].get_legend().remove()\n",
    "\n",
    "road_data[road_data['Kategoria_drogi'] == 'Wojewodzka'].groupby(('Kategoria_robot'), as_index=False).agg({'Wartosc_calkowita_per_km_calosc': 'sum'}).sort_values(by=['Wartosc_calkowita_per_km_calosc'],ascending=False).plot.bar(x='Kategoria_robot', y='Wartosc_calkowita_per_km_calosc',ax=ax[1])\n",
    "ax[1].set_xlabel('Kategoria robot')\n",
    "ax[1].set_ylabel('Koszt')\n",
    "ax[1].set_title('Drogi Wojewodzkie')\n",
    "ax[1].get_legend().remove()\n",
    "\n",
    "road_data[road_data['Kategoria_drogi'] == 'Powiatowa'].groupby(('Kategoria_robot'), as_index=False).agg({'Wartosc_calkowita_per_km_calosc': 'sum'}).sort_values(by=['Wartosc_calkowita_per_km_calosc'],ascending=False).plot.bar(x='Kategoria_robot', y='Wartosc_calkowita_per_km_calosc',ax=ax[2])\n",
    "ax[2].set_xlabel('Kategoria robot')\n",
    "ax[2].set_ylabel('Koszt')\n",
    "ax[2].set_title('Drogi Powiatowe')\n",
    "ax[2].get_legend().remove()\n",
    "\n",
    "\n",
    "# lines_labels = [ax.get_legend_handles_labels() for ax in fig.axes]\n",
    "# lines, labels = [sum(lol, []) for lol in zip(*lines_labels)]\n",
    "fig.legend(lines, labels,bbox_to_anchor=(1.05, 1), loc=2, borderaxespad=0.)\n",
    "plt.tight_layout()"
   ]
  },
  {
   "cell_type": "code",
   "execution_count": null,
   "id": "781bb8d6",
   "metadata": {},
   "outputs": [],
   "source": []
  }
 ],
 "metadata": {
  "kernelspec": {
   "display_name": "AnalizaDanych",
   "language": "python",
   "name": "analizadanych"
  },
  "language_info": {
   "codemirror_mode": {
    "name": "ipython",
    "version": 3
   },
   "file_extension": ".py",
   "mimetype": "text/x-python",
   "name": "python",
   "nbconvert_exporter": "python",
   "pygments_lexer": "ipython3",
   "version": "3.8.5"
  }
 },
 "nbformat": 4,
 "nbformat_minor": 5
}
