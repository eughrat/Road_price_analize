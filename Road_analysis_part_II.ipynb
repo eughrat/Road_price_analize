{
 "cells": [
  {
   "cell_type": "markdown",
   "id": "2827ca42",
   "metadata": {},
   "source": [
    "# ROAD COST ANALYSIS \n",
    "\n",
    "## PART I - DATA ANALYSIS"
   ]
  },
  {
   "cell_type": "markdown",
   "id": "ef9b6bc8",
   "metadata": {},
   "source": [
    "### Introduction\n",
    "In this part of the project, we will analyze the previously prepared data on road construction costs in Poland.\n",
    "\n",
    "The original data contains the following columns:\n",
    "\n",
    "* 'Elementy_rozliczeniowe': Billing elements\n",
    "* 'Jednostka': Measure unite\n",
    "* 'Ilosc': Quantity\n",
    "* 'Cena_jedn': Unit price\n",
    "* 'Wartosc_calkowita': Total value\n",
    "* 'Droga': Road number\n",
    "* 'Rok': Year\n",
    "* 'Dlugosc_drogi': Road length\n",
    "* 'Kategoria_robot': Road number\n",
    "* 'Kategoria_drogi': Category of construction works\n",
    "* 'Cena_jedn_per_km': Unit price per km\n",
    "* 'Wartosc_calkowita_per_km': Total value per km"
   ]
  },
  {
   "cell_type": "markdown",
   "id": "e9d9395b",
   "metadata": {},
   "source": [
    "**Import Libraries**"
   ]
  },
  {
   "cell_type": "code",
   "execution_count": 1,
   "id": "06b704b7",
   "metadata": {},
   "outputs": [],
   "source": [
    "import pandas as pd\n",
    "import numpy as np\n",
    "import matplotlib.pyplot as plt\n",
    "import seaborn as sns\n",
    "\n",
    "%matplotlib inline"
   ]
  },
  {
   "cell_type": "markdown",
   "id": "c4b120df",
   "metadata": {},
   "source": [
    "**Read the excel file**"
   ]
  },
  {
   "cell_type": "code",
   "execution_count": 2,
   "id": "cff75a0f",
   "metadata": {},
   "outputs": [],
   "source": [
    "road_data = pd.read_excel('..\\Projekt_Analiza_Danych\\DATA\\Road_cost_analysis.xlsx')"
   ]
  },
  {
   "cell_type": "markdown",
   "id": "caf171ad",
   "metadata": {},
   "source": [
    "**Checking the basic informations of the DataFrame**"
   ]
  },
  {
   "cell_type": "code",
   "execution_count": 3,
   "id": "696122a4",
   "metadata": {},
   "outputs": [
    {
     "name": "stdout",
     "output_type": "stream",
     "text": [
      "<class 'pandas.core.frame.DataFrame'>\n",
      "RangeIndex: 2097 entries, 0 to 2096\n",
      "Data columns (total 12 columns):\n",
      " #   Column                    Non-Null Count  Dtype         \n",
      "---  ------                    --------------  -----         \n",
      " 0   Elementy_rozliczeniowe    2097 non-null   object        \n",
      " 1   Jednostka                 2097 non-null   object        \n",
      " 2   Ilosc                     2095 non-null   float64       \n",
      " 3   Cena_jedn                 2097 non-null   float64       \n",
      " 4   Wartosc_calkowita         2095 non-null   float64       \n",
      " 5   Droga                     2097 non-null   object        \n",
      " 6   Rok                       2097 non-null   datetime64[ns]\n",
      " 7   Dlugosc_drogi             2097 non-null   float64       \n",
      " 8   Kategoria_robot           2097 non-null   object        \n",
      " 9   Kategoria_drogi           2097 non-null   object        \n",
      " 10  Cena_jedn_per_km          2097 non-null   float64       \n",
      " 11  Wartosc_calkowita_per_km  2095 non-null   float64       \n",
      "dtypes: datetime64[ns](1), float64(6), object(5)\n",
      "memory usage: 196.7+ KB\n"
     ]
    }
   ],
   "source": [
    "road_data.info()"
   ]
  },
  {
   "cell_type": "code",
   "execution_count": 4,
   "id": "3fe0c473",
   "metadata": {},
   "outputs": [
    {
     "data": {
      "text/html": [
       "<div>\n",
       "<style scoped>\n",
       "    .dataframe tbody tr th:only-of-type {\n",
       "        vertical-align: middle;\n",
       "    }\n",
       "\n",
       "    .dataframe tbody tr th {\n",
       "        vertical-align: top;\n",
       "    }\n",
       "\n",
       "    .dataframe thead th {\n",
       "        text-align: right;\n",
       "    }\n",
       "</style>\n",
       "<table border=\"1\" class=\"dataframe\">\n",
       "  <thead>\n",
       "    <tr style=\"text-align: right;\">\n",
       "      <th></th>\n",
       "      <th>Elementy_rozliczeniowe</th>\n",
       "      <th>Jednostka</th>\n",
       "      <th>Ilosc</th>\n",
       "      <th>Cena_jedn</th>\n",
       "      <th>Wartosc_calkowita</th>\n",
       "      <th>Droga</th>\n",
       "      <th>Rok</th>\n",
       "      <th>Dlugosc_drogi</th>\n",
       "      <th>Kategoria_robot</th>\n",
       "      <th>Kategoria_drogi</th>\n",
       "      <th>Cena_jedn_per_km</th>\n",
       "      <th>Wartosc_calkowita_per_km</th>\n",
       "    </tr>\n",
       "  </thead>\n",
       "  <tbody>\n",
       "    <tr>\n",
       "      <th>0</th>\n",
       "      <td>Odtworzenie trasy i punktów wysokościowych wra...</td>\n",
       "      <td>km</td>\n",
       "      <td>24.24</td>\n",
       "      <td>17413.58</td>\n",
       "      <td>422105.1792</td>\n",
       "      <td>DK12ZW</td>\n",
       "      <td>2019-01-01</td>\n",
       "      <td>24.24</td>\n",
       "      <td>ROBOTY PRZYGOTOWAWCZE</td>\n",
       "      <td>Krajowa</td>\n",
       "      <td>718.382013</td>\n",
       "      <td>17413.580000</td>\n",
       "    </tr>\n",
       "    <tr>\n",
       "      <th>1</th>\n",
       "      <td>Ścinanie drzew śr. od 20 do 35 cm wraz z karcz...</td>\n",
       "      <td>szt.</td>\n",
       "      <td>669.00</td>\n",
       "      <td>370.40</td>\n",
       "      <td>247797.6000</td>\n",
       "      <td>DK12ZW</td>\n",
       "      <td>2019-01-01</td>\n",
       "      <td>24.24</td>\n",
       "      <td>ROBOTY PRZYGOTOWAWCZE</td>\n",
       "      <td>Krajowa</td>\n",
       "      <td>15.280528</td>\n",
       "      <td>10222.673267</td>\n",
       "    </tr>\n",
       "    <tr>\n",
       "      <th>2</th>\n",
       "      <td>Ścinanie drzew śr. od 36 do 45 cm wraz z karcz...</td>\n",
       "      <td>szt.</td>\n",
       "      <td>77.00</td>\n",
       "      <td>529.66</td>\n",
       "      <td>40783.8200</td>\n",
       "      <td>DK12ZW</td>\n",
       "      <td>2019-01-01</td>\n",
       "      <td>24.24</td>\n",
       "      <td>ROBOTY PRZYGOTOWAWCZE</td>\n",
       "      <td>Krajowa</td>\n",
       "      <td>21.850660</td>\n",
       "      <td>1682.500825</td>\n",
       "    </tr>\n",
       "    <tr>\n",
       "      <th>3</th>\n",
       "      <td>Ścinanie drzew śr. 46-55 cm wraz z karczowanie...</td>\n",
       "      <td>szt.</td>\n",
       "      <td>58.00</td>\n",
       "      <td>724.21</td>\n",
       "      <td>42004.1800</td>\n",
       "      <td>DK12ZW</td>\n",
       "      <td>2019-01-01</td>\n",
       "      <td>24.24</td>\n",
       "      <td>ROBOTY PRZYGOTOWAWCZE</td>\n",
       "      <td>Krajowa</td>\n",
       "      <td>29.876650</td>\n",
       "      <td>1732.845710</td>\n",
       "    </tr>\n",
       "    <tr>\n",
       "      <th>4</th>\n",
       "      <td>Ścinanie drzew śr. od 56 do 65 cm wraz z karcz...</td>\n",
       "      <td>szt.</td>\n",
       "      <td>59.00</td>\n",
       "      <td>874.60</td>\n",
       "      <td>51601.4000</td>\n",
       "      <td>DK12ZW</td>\n",
       "      <td>2019-01-01</td>\n",
       "      <td>24.24</td>\n",
       "      <td>ROBOTY PRZYGOTOWAWCZE</td>\n",
       "      <td>Krajowa</td>\n",
       "      <td>36.080858</td>\n",
       "      <td>2128.770627</td>\n",
       "    </tr>\n",
       "  </tbody>\n",
       "</table>\n",
       "</div>"
      ],
      "text/plain": [
       "                              Elementy_rozliczeniowe Jednostka   Ilosc  \\\n",
       "0  Odtworzenie trasy i punktów wysokościowych wra...        km   24.24   \n",
       "1  Ścinanie drzew śr. od 20 do 35 cm wraz z karcz...      szt.  669.00   \n",
       "2  Ścinanie drzew śr. od 36 do 45 cm wraz z karcz...      szt.   77.00   \n",
       "3  Ścinanie drzew śr. 46-55 cm wraz z karczowanie...      szt.   58.00   \n",
       "4  Ścinanie drzew śr. od 56 do 65 cm wraz z karcz...      szt.   59.00   \n",
       "\n",
       "   Cena_jedn  Wartosc_calkowita   Droga        Rok  Dlugosc_drogi  \\\n",
       "0   17413.58        422105.1792  DK12ZW 2019-01-01          24.24   \n",
       "1     370.40        247797.6000  DK12ZW 2019-01-01          24.24   \n",
       "2     529.66         40783.8200  DK12ZW 2019-01-01          24.24   \n",
       "3     724.21         42004.1800  DK12ZW 2019-01-01          24.24   \n",
       "4     874.60         51601.4000  DK12ZW 2019-01-01          24.24   \n",
       "\n",
       "         Kategoria_robot Kategoria_drogi  Cena_jedn_per_km  \\\n",
       "0  ROBOTY PRZYGOTOWAWCZE         Krajowa        718.382013   \n",
       "1  ROBOTY PRZYGOTOWAWCZE         Krajowa         15.280528   \n",
       "2  ROBOTY PRZYGOTOWAWCZE         Krajowa         21.850660   \n",
       "3  ROBOTY PRZYGOTOWAWCZE         Krajowa         29.876650   \n",
       "4  ROBOTY PRZYGOTOWAWCZE         Krajowa         36.080858   \n",
       "\n",
       "   Wartosc_calkowita_per_km  \n",
       "0              17413.580000  \n",
       "1              10222.673267  \n",
       "2               1682.500825  \n",
       "3               1732.845710  \n",
       "4               2128.770627  "
      ]
     },
     "execution_count": 4,
     "metadata": {},
     "output_type": "execute_result"
    }
   ],
   "source": [
    "road_data.head()"
   ]
  },
  {
   "cell_type": "code",
   "execution_count": 5,
   "id": "04e80738",
   "metadata": {},
   "outputs": [
    {
     "data": {
      "text/html": [
       "<div>\n",
       "<style scoped>\n",
       "    .dataframe tbody tr th:only-of-type {\n",
       "        vertical-align: middle;\n",
       "    }\n",
       "\n",
       "    .dataframe tbody tr th {\n",
       "        vertical-align: top;\n",
       "    }\n",
       "\n",
       "    .dataframe thead th {\n",
       "        text-align: right;\n",
       "    }\n",
       "</style>\n",
       "<table border=\"1\" class=\"dataframe\">\n",
       "  <thead>\n",
       "    <tr style=\"text-align: right;\">\n",
       "      <th></th>\n",
       "      <th>Ilosc</th>\n",
       "      <th>Cena_jedn</th>\n",
       "      <th>Wartosc_calkowita</th>\n",
       "      <th>Dlugosc_drogi</th>\n",
       "      <th>Cena_jedn_per_km</th>\n",
       "      <th>Wartosc_calkowita_per_km</th>\n",
       "    </tr>\n",
       "  </thead>\n",
       "  <tbody>\n",
       "    <tr>\n",
       "      <th>count</th>\n",
       "      <td>2095.00000</td>\n",
       "      <td>2.097000e+03</td>\n",
       "      <td>2.095000e+03</td>\n",
       "      <td>2097.000000</td>\n",
       "      <td>2097.000000</td>\n",
       "      <td>2.095000e+03</td>\n",
       "    </tr>\n",
       "    <tr>\n",
       "      <th>mean</th>\n",
       "      <td>13496.18936</td>\n",
       "      <td>1.019424e+04</td>\n",
       "      <td>4.104886e+05</td>\n",
       "      <td>11.519475</td>\n",
       "      <td>1452.994069</td>\n",
       "      <td>4.345102e+04</td>\n",
       "    </tr>\n",
       "    <tr>\n",
       "      <th>std</th>\n",
       "      <td>36108.37435</td>\n",
       "      <td>1.755900e+05</td>\n",
       "      <td>1.045110e+06</td>\n",
       "      <td>5.816611</td>\n",
       "      <td>21575.208084</td>\n",
       "      <td>1.169612e+05</td>\n",
       "    </tr>\n",
       "    <tr>\n",
       "      <th>min</th>\n",
       "      <td>0.07000</td>\n",
       "      <td>1.170000e+00</td>\n",
       "      <td>2.599000e+01</td>\n",
       "      <td>0.800000</td>\n",
       "      <td>0.062706</td>\n",
       "      <td>1.917596e+00</td>\n",
       "    </tr>\n",
       "    <tr>\n",
       "      <th>25%</th>\n",
       "      <td>46.00000</td>\n",
       "      <td>3.279000e+01</td>\n",
       "      <td>1.182688e+04</td>\n",
       "      <td>7.080000</td>\n",
       "      <td>2.848243</td>\n",
       "      <td>1.209782e+03</td>\n",
       "    </tr>\n",
       "    <tr>\n",
       "      <th>50%</th>\n",
       "      <td>446.00000</td>\n",
       "      <td>7.356000e+01</td>\n",
       "      <td>6.017949e+04</td>\n",
       "      <td>10.780000</td>\n",
       "      <td>8.569209</td>\n",
       "      <td>6.544069e+03</td>\n",
       "    </tr>\n",
       "    <tr>\n",
       "      <th>75%</th>\n",
       "      <td>5647.48500</td>\n",
       "      <td>3.370400e+02</td>\n",
       "      <td>2.869966e+05</td>\n",
       "      <td>12.980000</td>\n",
       "      <td>40.574639</td>\n",
       "      <td>3.041194e+04</td>\n",
       "    </tr>\n",
       "    <tr>\n",
       "      <th>max</th>\n",
       "      <td>496551.69000</td>\n",
       "      <td>5.617284e+06</td>\n",
       "      <td>1.423980e+07</td>\n",
       "      <td>24.240000</td>\n",
       "      <td>625000.000000</td>\n",
       "      <td>2.943856e+06</td>\n",
       "    </tr>\n",
       "  </tbody>\n",
       "</table>\n",
       "</div>"
      ],
      "text/plain": [
       "              Ilosc     Cena_jedn  Wartosc_calkowita  Dlugosc_drogi  \\\n",
       "count    2095.00000  2.097000e+03       2.095000e+03    2097.000000   \n",
       "mean    13496.18936  1.019424e+04       4.104886e+05      11.519475   \n",
       "std     36108.37435  1.755900e+05       1.045110e+06       5.816611   \n",
       "min         0.07000  1.170000e+00       2.599000e+01       0.800000   \n",
       "25%        46.00000  3.279000e+01       1.182688e+04       7.080000   \n",
       "50%       446.00000  7.356000e+01       6.017949e+04      10.780000   \n",
       "75%      5647.48500  3.370400e+02       2.869966e+05      12.980000   \n",
       "max    496551.69000  5.617284e+06       1.423980e+07      24.240000   \n",
       "\n",
       "       Cena_jedn_per_km  Wartosc_calkowita_per_km  \n",
       "count       2097.000000              2.095000e+03  \n",
       "mean        1452.994069              4.345102e+04  \n",
       "std        21575.208084              1.169612e+05  \n",
       "min            0.062706              1.917596e+00  \n",
       "25%            2.848243              1.209782e+03  \n",
       "50%            8.569209              6.544069e+03  \n",
       "75%           40.574639              3.041194e+04  \n",
       "max       625000.000000              2.943856e+06  "
      ]
     },
     "execution_count": 5,
     "metadata": {},
     "output_type": "execute_result"
    }
   ],
   "source": [
    "road_data.describe()"
   ]
  },
  {
   "cell_type": "code",
   "execution_count": 6,
   "id": "41671b33",
   "metadata": {},
   "outputs": [
    {
     "data": {
      "text/plain": [
       "<Figure size 864x576 with 0 Axes>"
      ]
     },
     "execution_count": 6,
     "metadata": {},
     "output_type": "execute_result"
    },
    {
     "data": {
      "image/png": "[encoded data removed]",
      "text/plain": [
       "<Figure size 432x288 with 1 Axes>"
      ]
     },
     "metadata": {
      "needs_background": "light"
     },
     "output_type": "display_data"
    },
    {
     "data": {
      "text/plain": [
       "<Figure size 864x576 with 0 Axes>"
      ]
     },
     "metadata": {},
     "output_type": "display_data"
    }
   ],
   "source": [
    "road_data.groupby(['Droga'], as_index=False).agg({'Wartosc_calkowita': 'sum'}).sort_values(by=['Wartosc_calkowita'],ascending=False).plot.bar(x='Droga', y='Wartosc_calkowita',label='Koszt budowy drogi [x 100 mln zł]',)\n",
    "plt.legend(bbox_to_anchor=(1.05, 1), loc=2, borderaxespad=0.)\n",
    "plt.figure(figsize=(12,8))"
   ]
  },
  {
   "cell_type": "code",
   "execution_count": 7,
   "id": "4931a13c",
   "metadata": {},
   "outputs": [
    {
     "data": {
      "text/plain": [
       "<Figure size 864x576 with 0 Axes>"
      ]
     },
     "execution_count": 7,
     "metadata": {},
     "output_type": "execute_result"
    },
    {
     "data": {
      "image/png": "[encoded data removed]",
      "text/plain": [
       "<Figure size 432x288 with 1 Axes>"
      ]
     },
     "metadata": {
      "needs_background": "light"
     },
     "output_type": "display_data"
    },
    {
     "data": {
      "text/plain": [
       "<Figure size 864x576 with 0 Axes>"
      ]
     },
     "metadata": {},
     "output_type": "display_data"
    }
   ],
   "source": [
    "road_data.groupby(['Droga'], as_index=False).agg({'Dlugosc_drogi': 'max'}).sort_values(by=['Dlugosc_drogi'],ascending=False).plot.bar(x='Droga', y='Dlugosc_drogi',label='Długość drogi [km]')\n",
    "plt.legend(bbox_to_anchor=(1.05, 1), loc=2, borderaxespad=0.)\n",
    "plt.figure(figsize=(12,8))"
   ]
  },
  {
   "cell_type": "code",
   "execution_count": 8,
   "id": "a643855f",
   "metadata": {},
   "outputs": [
    {
     "data": {
      "text/plain": [
       "<Figure size 864x576 with 0 Axes>"
      ]
     },
     "execution_count": 8,
     "metadata": {},
     "output_type": "execute_result"
    },
    {
     "data": {
      "image/png": "[encoded data removed]",
      "text/plain": [
       "<Figure size 432x288 with 1 Axes>"
      ]
     },
     "metadata": {
      "needs_background": "light"
     },
     "output_type": "display_data"
    },
    {
     "data": {
      "text/plain": [
       "<Figure size 864x576 with 0 Axes>"
      ]
     },
     "metadata": {},
     "output_type": "display_data"
    }
   ],
   "source": [
    "road_data.groupby(['Droga'], as_index=False).agg({'Wartosc_calkowita_per_km': 'sum'}).sort_values(by=['Wartosc_calkowita_per_km'],ascending=False).plot.bar(x='Droga', y='Wartosc_calkowita_per_km',label='Koszt budowy 1 km drogi [x 10 mln zł]')\n",
    "plt.legend(bbox_to_anchor=(1.05, 1), loc=2, borderaxespad=0.)\n",
    "plt.figure(figsize=(12,8))"
   ]
  },
  {
   "cell_type": "code",
   "execution_count": 12,
   "id": "e103392c",
   "metadata": {},
   "outputs": [
    {
     "data": {
      "text/html": [
       "<div>\n",
       "<style scoped>\n",
       "    .dataframe tbody tr th:only-of-type {\n",
       "        vertical-align: middle;\n",
       "    }\n",
       "\n",
       "    .dataframe tbody tr th {\n",
       "        vertical-align: top;\n",
       "    }\n",
       "\n",
       "    .dataframe thead th {\n",
       "        text-align: right;\n",
       "    }\n",
       "</style>\n",
       "<table border=\"1\" class=\"dataframe\">\n",
       "  <thead>\n",
       "    <tr style=\"text-align: right;\">\n",
       "      <th></th>\n",
       "      <th>Elementy_rozliczeniowe</th>\n",
       "      <th>Jednostka</th>\n",
       "      <th>Ilosc</th>\n",
       "      <th>Cena_jedn</th>\n",
       "      <th>Wartosc_calkowita</th>\n",
       "      <th>Droga</th>\n",
       "      <th>Rok</th>\n",
       "      <th>Dlugosc_drogi</th>\n",
       "      <th>Kategoria_robot</th>\n",
       "      <th>Kategoria_drogi</th>\n",
       "      <th>Cena_jedn_per_km</th>\n",
       "      <th>Wartosc_calkowita_per_km</th>\n",
       "    </tr>\n",
       "  </thead>\n",
       "  <tbody>\n",
       "  </tbody>\n",
       "</table>\n",
       "</div>"
      ],
      "text/plain": [
       "Empty DataFrame\n",
       "Columns: [Elementy_rozliczeniowe, Jednostka, Ilosc, Cena_jedn, Wartosc_calkowita, Droga, Rok, Dlugosc_drogi, Kategoria_robot, Kategoria_drogi, Cena_jedn_per_km, Wartosc_calkowita_per_km]\n",
       "Index: []"
      ]
     },
     "execution_count": 12,
     "metadata": {},
     "output_type": "execute_result"
    }
   ],
   "source": [
    "road_data.groupby(['Droga'], as_index=False).agg({'Wartosc_calkowita_per_km': 'sum'}).sort_values(by=['Wartosc_calkowita_per_km'],ascending=False).plot.bar(x='Droga', y='Wartosc_calkowita_per_km',label='Koszt budowy 1 km drogi [x 10 mln zł]')\n",
    "plt.legend(bbox_to_anchor=(1.05, 1), loc=2, borderaxespad=0.)\n",
    "plt.figure(figsize=(12,8))"
   ]
  },
  {
   "cell_type": "code",
   "execution_count": null,
   "id": "14f9312b",
   "metadata": {},
   "outputs": [],
   "source": []
  },
  {
   "cell_type": "code",
   "execution_count": null,
   "id": "6abbb86a",
   "metadata": {},
   "outputs": [],
   "source": []
  },
  {
   "cell_type": "code",
   "execution_count": null,
   "id": "051ff867",
   "metadata": {},
   "outputs": [],
   "source": []
  },
  {
   "cell_type": "code",
   "execution_count": null,
   "id": "e6fbef5f",
   "metadata": {},
   "outputs": [],
   "source": []
  }
 ],
 "metadata": {
  "kernelspec": {
   "display_name": "AnalizaDanych",
   "language": "python",
   "name": "analizadanych"
  },
  "language_info": {
   "codemirror_mode": {
    "name": "ipython",
    "version": 3
   },
   "file_extension": ".py",
   "mimetype": "text/x-python",
   "name": "python",
   "nbconvert_exporter": "python",
   "pygments_lexer": "ipython3",
   "version": "3.8.5"
  }
 },
 "nbformat": 4,
 "nbformat_minor": 5
}
