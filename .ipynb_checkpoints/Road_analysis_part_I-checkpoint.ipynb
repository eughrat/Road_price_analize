{
 "cells": [
  {
   "cell_type": "markdown",
   "id": "c5a3997a",
   "metadata": {},
   "source": [
    "# ROAD COST ANALYSIS \n",
    "\n",
    "## PART I - DATA PREPARATION\n"
   ]
  },
  {
   "cell_type": "markdown",
   "id": "90c76af9",
   "metadata": {},
   "source": [
    "### Introduction\n",
    "\n",
    "In this data analysis project we will look at the cost of road construction in Poland. It is said that road construction in Poland is much more expensive than in neighboring countries and the quality of the new routes does not meet the requirements of users.\n",
    "\n",
    "We will check the list of elements of newly build or rebuilt roads and what road elements contribute the most to the high cost of roads in Poland and what does it look like from the inside.\n",
    "\n",
    "The analysis will be carried out on the basis of real data for which the names of the roads covered by the analysis have been changed.\n",
    "\n",
    "The input material are pdf files obtained from a reputable polish construction company, the explanation of which is presented below.\n",
    "\n",
    "The original data contains the following columns:\n",
    "\n",
    "* 'Lp.': Ordinal number\n",
    "* 'CPV': Central Product Classification code\n",
    "* 'Numer Specyfikacji Technicznej': Technical Specification code\n",
    "* 'Elementy rozliczeniowe': Billing elements\n",
    "* 'Jednostka': Measure unit\n",
    "* 'Ilosc': quantity\n",
    "* 'Cena jedn': Unit price\n",
    "* 'Wartosc calkowita': Total value\n",
    "* 'Droga': Road number\n",
    "* 'Rok': Year of construction\n",
    "* 'Kategoria': Category of construction works\n",
    " \n"
   ]
  },
  {
   "cell_type": "markdown",
   "id": "aec633e9",
   "metadata": {},
   "source": [
    "**Import Libraries**"
   ]
  },
  {
   "cell_type": "code",
   "execution_count": 1,
   "id": "52f4be1d",
   "metadata": {},
   "outputs": [],
   "source": [
    "import pandas as pd\n",
    "import numpy as np\n",
    "\n",
    "from functions.pdf_tools import pdf_reader, pdf_cleaner, match_category"
   ]
  },
  {
   "cell_type": "markdown",
   "id": "723e962f",
   "metadata": {},
   "source": [
    "**Read pdf files**"
   ]
  },
  {
   "cell_type": "code",
   "execution_count": null,
   "id": "8a9b0d2a",
   "metadata": {},
   "outputs": [
    {
     "name": "stderr",
     "output_type": "stream",
     "text": [
      "C:\\Users\\mpiernicki\\Desktop\\Projekt_Analiza_Danych\\functions\\pdf_tools.py:30: SettingWithCopyWarning: \n",
      "A value is trying to be set on a copy of a slice from a DataFrame.\n",
      "Try using .loc[row_indexer,col_indexer] = value instead\n",
      "\n",
      "See the caveats in the documentation: https://pandas.pydata.org/pandas-docs/stable/user_guide/indexing.html#returning-a-view-versus-a-copy\n",
      "  report_cl['Dlugosc_drogi'] = report_cl[report_cl['Elementy_rozliczeniowe'].str.contains(\"Odtworzenie trasy i punktów wysokościowych\")]['Ilosc']\n",
      "C:\\Users\\mpiernicki\\Desktop\\Projekt_Analiza_Danych\\functions\\pdf_tools.py:30: SettingWithCopyWarning: \n",
      "A value is trying to be set on a copy of a slice from a DataFrame.\n",
      "Try using .loc[row_indexer,col_indexer] = value instead\n",
      "\n",
      "See the caveats in the documentation: https://pandas.pydata.org/pandas-docs/stable/user_guide/indexing.html#returning-a-view-versus-a-copy\n",
      "  report_cl['Dlugosc_drogi'] = report_cl[report_cl['Elementy_rozliczeniowe'].str.contains(\"Odtworzenie trasy i punktów wysokościowych\")]['Ilosc']\n",
      "C:\\Users\\mpiernicki\\Desktop\\Projekt_Analiza_Danych\\functions\\pdf_tools.py:30: SettingWithCopyWarning: \n",
      "A value is trying to be set on a copy of a slice from a DataFrame.\n",
      "Try using .loc[row_indexer,col_indexer] = value instead\n",
      "\n",
      "See the caveats in the documentation: https://pandas.pydata.org/pandas-docs/stable/user_guide/indexing.html#returning-a-view-versus-a-copy\n",
      "  report_cl['Dlugosc_drogi'] = report_cl[report_cl['Elementy_rozliczeniowe'].str.contains(\"Odtworzenie trasy i punktów wysokościowych\")]['Ilosc']\n",
      "C:\\Users\\mpiernicki\\Desktop\\Projekt_Analiza_Danych\\functions\\pdf_tools.py:30: SettingWithCopyWarning: \n",
      "A value is trying to be set on a copy of a slice from a DataFrame.\n",
      "Try using .loc[row_indexer,col_indexer] = value instead\n",
      "\n",
      "See the caveats in the documentation: https://pandas.pydata.org/pandas-docs/stable/user_guide/indexing.html#returning-a-view-versus-a-copy\n",
      "  report_cl['Dlugosc_drogi'] = report_cl[report_cl['Elementy_rozliczeniowe'].str.contains(\"Odtworzenie trasy i punktów wysokościowych\")]['Ilosc']\n"
     ]
    }
   ],
   "source": [
    "road_data = pdf_reader('..\\Projekt_Analiza_Danych\\DATA\\*.pdf')"
   ]
  },
  {
   "cell_type": "markdown",
   "id": "d3c2890e",
   "metadata": {},
   "source": [
    "**Initial data clean**"
   ]
  },
  {
   "cell_type": "code",
   "execution_count": null,
   "id": "a3085c9a",
   "metadata": {},
   "outputs": [],
   "source": [
    "road_data = pdf_cleaner(road_data)"
   ]
  },
  {
   "cell_type": "markdown",
   "id": "1dcb5b23",
   "metadata": {},
   "source": [
    "**Checking the basic informations of the DataFrame.**"
   ]
  },
  {
   "cell_type": "code",
   "execution_count": null,
   "id": "52b8ff7a",
   "metadata": {},
   "outputs": [],
   "source": [
    "road_data.head()"
   ]
  },
  {
   "cell_type": "code",
   "execution_count": null,
   "id": "f5c3fb00",
   "metadata": {
    "scrolled": true
   },
   "outputs": [],
   "source": [
    "road_data.info()"
   ]
  },
  {
   "cell_type": "code",
   "execution_count": null,
   "id": "44b2e4d7",
   "metadata": {
    "scrolled": true
   },
   "outputs": [],
   "source": [
    "road_data.describe()"
   ]
  },
  {
   "cell_type": "code",
   "execution_count": null,
   "id": "da22828c",
   "metadata": {},
   "outputs": [],
   "source": [
    "set(road_data['Cena_jedn'].map(type))"
   ]
  },
  {
   "cell_type": "code",
   "execution_count": null,
   "id": "1ba9e161",
   "metadata": {},
   "outputs": [],
   "source": [
    "set(road_data['Ilosc'].map(type))"
   ]
  },
  {
   "cell_type": "code",
   "execution_count": null,
   "id": "3cad12bf",
   "metadata": {},
   "outputs": [],
   "source": [
    "set(road_data['Wartosc_calkowita'].map(type))"
   ]
  },
  {
   "cell_type": "code",
   "execution_count": null,
   "id": "104ab81d",
   "metadata": {},
   "outputs": [],
   "source": [
    "set(road_data['Dlugosc_drogi'].map(type))"
   ]
  },
  {
   "cell_type": "code",
   "execution_count": null,
   "id": "9436c08a",
   "metadata": {},
   "outputs": [],
   "source": [
    "set(road_data['Rok'].map(type))"
   ]
  },
  {
   "cell_type": "code",
   "execution_count": null,
   "id": "72ca8c13",
   "metadata": {
    "scrolled": true
   },
   "outputs": [],
   "source": [
    "road_data['Kategoria'].value_counts()"
   ]
  },
  {
   "cell_type": "markdown",
   "id": "b8609c80",
   "metadata": {},
   "source": [
    "**Note**\n",
    "\n",
    "As you can see above,the \"Ilosc, Cena_jedn, Wartosc_calkowita, Dlugosc_drogi and Rok\" columns contains wrong data type, we will convert them to float and DateTime data type. What is more the \"Kategoria\" column contain incomplete category names. In the next few steps we will fix these errors."
   ]
  },
  {
   "cell_type": "markdown",
   "id": "4273beb1",
   "metadata": {},
   "source": [
    "**Cleaning the \"Kategoria\" column**"
   ]
  },
  {
   "cell_type": "code",
   "execution_count": null,
   "id": "6efe67d6",
   "metadata": {},
   "outputs": [],
   "source": [
    "road_data['Kategoria_robot'] = road_data['Kategoria'].apply(match_category)"
   ]
  },
  {
   "cell_type": "code",
   "execution_count": null,
   "id": "d956ea0d",
   "metadata": {},
   "outputs": [],
   "source": [
    "road_data.drop('Kategoria', inplace=True, axis=1)"
   ]
  },
  {
   "cell_type": "code",
   "execution_count": null,
   "id": "add80570",
   "metadata": {},
   "outputs": [],
   "source": [
    "road_data"
   ]
  },
  {
   "cell_type": "code",
   "execution_count": null,
   "id": "c1a5a62e",
   "metadata": {},
   "outputs": [],
   "source": [
    "road_data['Ilosc'] = pd.to_numeric(road_data['Ilosc'],errors='coerce')"
   ]
  },
  {
   "cell_type": "markdown",
   "id": "e74e2275",
   "metadata": {},
   "source": [
    "**Cleaning the \"Ilosc\", \"Cena_jedn\", \"Wartosc_calkowita\" and \"Dlugosc_drogi\"columns**"
   ]
  },
  {
   "cell_type": "code",
   "execution_count": null,
   "id": "f0f03636",
   "metadata": {},
   "outputs": [],
   "source": [
    "road_data['Ilosc'] = pd.to_numeric(road_data['Ilosc'],errors='coerce')"
   ]
  },
  {
   "cell_type": "code",
   "execution_count": null,
   "id": "7b1734e4",
   "metadata": {},
   "outputs": [],
   "source": [
    "road_data['Cena_jedn'] = pd.to_numeric(road_data['Cena_jedn'],errors='coerce')"
   ]
  },
  {
   "cell_type": "code",
   "execution_count": null,
   "id": "3c8fc91a",
   "metadata": {},
   "outputs": [],
   "source": [
    "road_data['Wartosc_calkowita'] = pd.to_numeric(road_data['Wartosc_calkowita'],errors='coerce')"
   ]
  },
  {
   "cell_type": "code",
   "execution_count": null,
   "id": "8cad2dd0",
   "metadata": {},
   "outputs": [],
   "source": [
    "road_data['Dlugosc_drogi'] = pd.to_numeric(road_data['Dlugosc_drogi'],errors='coerce')"
   ]
  },
  {
   "cell_type": "markdown",
   "id": "a9210ede",
   "metadata": {},
   "source": [
    "**Cleaning the \"Rok\" column**"
   ]
  },
  {
   "cell_type": "code",
   "execution_count": null,
   "id": "d2f52c33",
   "metadata": {},
   "outputs": [],
   "source": [
    "road_data['Rok'] = pd.to_numeric(road_data['Rok'],errors='coerce')"
   ]
  },
  {
   "cell_type": "code",
   "execution_count": null,
   "id": "d142564c",
   "metadata": {},
   "outputs": [],
   "source": [
    "road_data['Rok'] = pd.to_datetime(road_data['Rok'],format='%Y')"
   ]
  },
  {
   "cell_type": "code",
   "execution_count": null,
   "id": "6aac08ce",
   "metadata": {},
   "outputs": [],
   "source": [
    "road_data"
   ]
  },
  {
   "cell_type": "code",
   "execution_count": null,
   "id": "8b626263",
   "metadata": {},
   "outputs": [],
   "source": [
    "road_data.info()"
   ]
  },
  {
   "cell_type": "code",
   "execution_count": null,
   "id": "82a378d8",
   "metadata": {},
   "outputs": [],
   "source": [
    "road_data['Kategoria_drogi'] = road_data['Droga'].str[0:2].apply(lambda x:\n",
    "                                                                 ('Powiatowa' if x=='DP'\n",
    "                                                                  else 'Krajowa' if x=='DK'\n",
    "                                                                  else 'Wojewodzka'))"
   ]
  },
  {
   "cell_type": "code",
   "execution_count": null,
   "id": "d76ca14f",
   "metadata": {},
   "outputs": [],
   "source": [
    "road_data"
   ]
  },
  {
   "cell_type": "code",
   "execution_count": null,
   "id": "ee625839",
   "metadata": {},
   "outputs": [],
   "source": [
    "road_data['Kategoria_drogi'].value_counts()"
   ]
  },
  {
   "cell_type": "markdown",
   "id": "cbb5ee04",
   "metadata": {},
   "source": [
    "**Note**\n",
    "\n",
    "It can be seen that the product of the \"Ilosc\" and \"Cena_jedn\" columns does not equal to the values in the column \"Wartosc_calkowita\", let's fix that."
   ]
  },
  {
   "cell_type": "code",
   "execution_count": null,
   "id": "e40cf558",
   "metadata": {},
   "outputs": [],
   "source": [
    "road_data['Wartosc_calkowita'] = road_data['Ilosc'] * road_data['Cena_jedn']"
   ]
  },
  {
   "cell_type": "code",
   "execution_count": null,
   "id": "f56ace54",
   "metadata": {},
   "outputs": [],
   "source": [
    "road_data"
   ]
  },
  {
   "cell_type": "markdown",
   "id": "4801bf7e",
   "metadata": {},
   "source": [
    "**Note**\n",
    "\n",
    "We still dont know the lenght of analized roads, so their cost not reliable. Let's bring all the costs down to the cost of the 1 km of the road\n",
    "\n",
    "We know that the cells that contains sentence \"Odtworzenie trasy i punktów wysokościowych...\" in column \"Elementy_rozliczenione\" contains information about the lenght of the analized roads. We used it at the begining (def pdf_reader) to bring all the costs down to the cost of the 1 km of the road"
   ]
  },
  {
   "cell_type": "code",
   "execution_count": null,
   "id": "e343dd8d",
   "metadata": {},
   "outputs": [],
   "source": [
    "road_data['Cena_jedn_per_km'] = road_data['Cena_jedn'] / road_data['Dlugosc_drogi']"
   ]
  },
  {
   "cell_type": "code",
   "execution_count": null,
   "id": "95debf85",
   "metadata": {},
   "outputs": [],
   "source": [
    "road_data['Wartosc_calkowita_per_km'] = road_data['Wartosc_calkowita'] / road_data['Dlugosc_drogi']"
   ]
  },
  {
   "cell_type": "code",
   "execution_count": null,
   "id": "20acf1f9",
   "metadata": {},
   "outputs": [],
   "source": [
    "road_data"
   ]
  },
  {
   "cell_type": "markdown",
   "id": "91bd7a3e",
   "metadata": {},
   "source": [
    "**Note**\n",
    "\n",
    "Okey we finished our data preparation let's save it to excel file for further data analysis in second part of the project."
   ]
  },
  {
   "cell_type": "code",
   "execution_count": null,
   "id": "bf4dddb8",
   "metadata": {},
   "outputs": [],
   "source": [
    "road_data.to_excel('..\\Projekt_Analiza_Danych\\DATA\\Road_cost_analysis.xlsx',\n",
    "                                             sheet_name='Road_cost_analysis',\n",
    "                                             index=False)"
   ]
  }
 ],
 "metadata": {
  "kernelspec": {
   "display_name": "AnalizaDanych",
   "language": "python",
   "name": "analizadanych"
  },
  "language_info": {
   "codemirror_mode": {
    "name": "ipython",
    "version": 3
   },
   "file_extension": ".py",
   "mimetype": "text/x-python",
   "name": "python",
   "nbconvert_exporter": "python",
   "pygments_lexer": "ipython3",
   "version": "3.8.5"
  }
 },
 "nbformat": 4,
 "nbformat_minor": 5
}
