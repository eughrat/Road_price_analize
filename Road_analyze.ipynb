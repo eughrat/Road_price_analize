{
 "cells": [
  {
   "cell_type": "markdown",
   "id": "c5a3997a",
   "metadata": {},
   "source": [
    "# ROAD COST ANALYSIS \n",
    "\n",
    "## PART I - DATA PREPARATION\n"
   ]
  },
  {
   "cell_type": "markdown",
   "id": "90c76af9",
   "metadata": {},
   "source": [
    "### Introduction\n",
    "\n",
    "In this data analysis project we will look at the cost of road construction in Poland. It is said that road construction in Poland is much more expensive than in neighboring countries and the quality of the new routes does not meet the requirements of users.\n",
    "\n",
    "We will check the list of elements of newly build or rebuilt roads and what road elements contribute the most to the high cost of roads in Poland and what does it look like from the inside.\n",
    "\n",
    "The analysis will be carried out on the basis of real data for which the names of the roads covered by the analysis have been changed.\n",
    "\n",
    "The input material are pdf files obtained from a reputable polish construction company, the explanation of which is presented below.\n",
    "\n",
    "The data contains the following columns:\n",
    "\n",
    "* 'Lp.': Ordinal number\n",
    "* 'CPV': Central Product Classification code\n",
    "* 'Numer Specyfikacji Technicznej': Technical Specification code\n",
    "* 'Elementy rozliczeniowe': Billing elements\n",
    "* 'Jednostka': Measure unit\n",
    "* 'Ilosc': quantity\n",
    "* 'Cena jedn': Unit price\n",
    "* 'Wartosc calkowita': Total value\n",
    "* 'Droga': Road number\n",
    "* 'Rok': Year of construction\n",
    "* 'Kategoria': Category of construction works\n",
    " \n"
   ]
  },
  {
   "cell_type": "markdown",
   "id": "aec633e9",
   "metadata": {},
   "source": [
    "**Import Libraries**"
   ]
  },
  {
   "cell_type": "code",
   "execution_count": 1,
   "id": "52f4be1d",
   "metadata": {},
   "outputs": [],
   "source": [
    "import pandas as pd\n",
    "\n",
    "from functions.pdf_tools import pdf_reader, pdf_cleaner, match_category"
   ]
  },
  {
   "cell_type": "markdown",
   "id": "723e962f",
   "metadata": {},
   "source": [
    "**Read pdf files**"
   ]
  },
  {
   "cell_type": "code",
   "execution_count": 2,
   "id": "8a9b0d2a",
   "metadata": {},
   "outputs": [],
   "source": [
    "road_data = pdf_reader('..\\Projekt_Analiza_Danych\\DATA\\*.pdf')"
   ]
  },
  {
   "cell_type": "markdown",
   "id": "d3c2890e",
   "metadata": {},
   "source": [
    "**Initial data clean**"
   ]
  },
  {
   "cell_type": "code",
   "execution_count": 3,
   "id": "a3085c9a",
   "metadata": {},
   "outputs": [],
   "source": [
    "road_data = pdf_cleaner(road_data)"
   ]
  },
  {
   "cell_type": "markdown",
   "id": "1dcb5b23",
   "metadata": {},
   "source": [
    "**Checking the basic informations of the DataFrame.**"
   ]
  },
  {
   "cell_type": "code",
   "execution_count": 4,
   "id": "52b8ff7a",
   "metadata": {},
   "outputs": [
    {
     "data": {
      "text/html": [
       "<div>\n",
       "<style scoped>\n",
       "    .dataframe tbody tr th:only-of-type {\n",
       "        vertical-align: middle;\n",
       "    }\n",
       "\n",
       "    .dataframe tbody tr th {\n",
       "        vertical-align: top;\n",
       "    }\n",
       "\n",
       "    .dataframe thead th {\n",
       "        text-align: right;\n",
       "    }\n",
       "</style>\n",
       "<table border=\"1\" class=\"dataframe\">\n",
       "  <thead>\n",
       "    <tr style=\"text-align: right;\">\n",
       "      <th></th>\n",
       "      <th>Elementy_rozliczeniowe</th>\n",
       "      <th>Jednostka</th>\n",
       "      <th>Ilosc</th>\n",
       "      <th>Cena_jedn</th>\n",
       "      <th>Wartosc_calkowita</th>\n",
       "      <th>Droga</th>\n",
       "      <th>Rok</th>\n",
       "      <th>Kategoria</th>\n",
       "    </tr>\n",
       "  </thead>\n",
       "  <tbody>\n",
       "    <tr>\n",
       "      <th>3</th>\n",
       "      <td>Koszt dostosowania się do wymagań ogólnych zaw...</td>\n",
       "      <td>ryczałt</td>\n",
       "      <td>1.00</td>\n",
       "      <td>280 864.20</td>\n",
       "      <td>280 764.20</td>\n",
       "      <td>DK12ZW</td>\n",
       "      <td>2019</td>\n",
       "      <td>WARUNKI OGÓLNE</td>\n",
       "    </tr>\n",
       "    <tr>\n",
       "      <th>4</th>\n",
       "      <td>Dokumentacja realizacyjno-technologiczna i dok...</td>\n",
       "      <td>ryczałt</td>\n",
       "      <td>1.00</td>\n",
       "      <td>33 703.70</td>\n",
       "      <td>33 603.70</td>\n",
       "      <td>DK12ZW</td>\n",
       "      <td>2019</td>\n",
       "      <td>WARUNKI OGÓLNE</td>\n",
       "    </tr>\n",
       "    <tr>\n",
       "      <th>5</th>\n",
       "      <td>Koszt utrzymania dróg, po których odbywać się ...</td>\n",
       "      <td>ryczałt</td>\n",
       "      <td>1.00</td>\n",
       "      <td>224 691.36</td>\n",
       "      <td>224 591.36</td>\n",
       "      <td>DK12ZW</td>\n",
       "      <td>2019</td>\n",
       "      <td>WARUNKI OGÓLNE</td>\n",
       "    </tr>\n",
       "    <tr>\n",
       "      <th>6</th>\n",
       "      <td>Saperskie sprawdzenie terenu pod kątem niewypa...</td>\n",
       "      <td>ryczałt</td>\n",
       "      <td>1.00</td>\n",
       "      <td>33 703.70</td>\n",
       "      <td>33 603.70</td>\n",
       "      <td>DK12ZW</td>\n",
       "      <td>2019</td>\n",
       "      <td>WARUNKI OGÓLNE</td>\n",
       "    </tr>\n",
       "    <tr>\n",
       "      <th>7</th>\n",
       "      <td>Nadzór archeologiczny wraz z wykonaniem ratown...</td>\n",
       "      <td>ryczałt</td>\n",
       "      <td>1.00</td>\n",
       "      <td>28 086.42</td>\n",
       "      <td>27 986.42</td>\n",
       "      <td>DK12ZW</td>\n",
       "      <td>2019</td>\n",
       "      <td>WARUNKI OGÓLNE</td>\n",
       "    </tr>\n",
       "  </tbody>\n",
       "</table>\n",
       "</div>"
      ],
      "text/plain": [
       "                              Elementy_rozliczeniowe Jednostka Ilosc  \\\n",
       "3  Koszt dostosowania się do wymagań ogólnych zaw...   ryczałt  1.00   \n",
       "4  Dokumentacja realizacyjno-technologiczna i dok...   ryczałt  1.00   \n",
       "5  Koszt utrzymania dróg, po których odbywać się ...   ryczałt  1.00   \n",
       "6  Saperskie sprawdzenie terenu pod kątem niewypa...   ryczałt  1.00   \n",
       "7  Nadzór archeologiczny wraz z wykonaniem ratown...   ryczałt  1.00   \n",
       "\n",
       "    Cena_jedn Wartosc_calkowita   Droga   Rok       Kategoria  \n",
       "3  280 864.20        280 764.20  DK12ZW  2019  WARUNKI OGÓLNE  \n",
       "4   33 703.70         33 603.70  DK12ZW  2019  WARUNKI OGÓLNE  \n",
       "5  224 691.36        224 591.36  DK12ZW  2019  WARUNKI OGÓLNE  \n",
       "6   33 703.70         33 603.70  DK12ZW  2019  WARUNKI OGÓLNE  \n",
       "7   28 086.42         27 986.42  DK12ZW  2019  WARUNKI OGÓLNE  "
      ]
     },
     "execution_count": 4,
     "metadata": {},
     "output_type": "execute_result"
    }
   ],
   "source": [
    "road_data.head()"
   ]
  },
  {
   "cell_type": "code",
   "execution_count": 5,
   "id": "f5c3fb00",
   "metadata": {
    "scrolled": true
   },
   "outputs": [
    {
     "name": "stdout",
     "output_type": "stream",
     "text": [
      "<class 'pandas.core.frame.DataFrame'>\n",
      "Int64Index: 1170 entries, 3 to 35\n",
      "Data columns (total 8 columns):\n",
      " #   Column                  Non-Null Count  Dtype \n",
      "---  ------                  --------------  ----- \n",
      " 0   Elementy_rozliczeniowe  1170 non-null   object\n",
      " 1   Jednostka               1170 non-null   object\n",
      " 2   Ilosc                   1170 non-null   object\n",
      " 3   Cena_jedn               1170 non-null   object\n",
      " 4   Wartosc_calkowita       1170 non-null   object\n",
      " 5   Droga                   1170 non-null   object\n",
      " 6   Rok                     1170 non-null   object\n",
      " 7   Kategoria               1170 non-null   object\n",
      "dtypes: object(8)\n",
      "memory usage: 82.3+ KB\n"
     ]
    }
   ],
   "source": [
    "road_data.info()"
   ]
  },
  {
   "cell_type": "code",
   "execution_count": 6,
   "id": "44b2e4d7",
   "metadata": {},
   "outputs": [
    {
     "data": {
      "text/html": [
       "<div>\n",
       "<style scoped>\n",
       "    .dataframe tbody tr th:only-of-type {\n",
       "        vertical-align: middle;\n",
       "    }\n",
       "\n",
       "    .dataframe tbody tr th {\n",
       "        vertical-align: top;\n",
       "    }\n",
       "\n",
       "    .dataframe thead th {\n",
       "        text-align: right;\n",
       "    }\n",
       "</style>\n",
       "<table border=\"1\" class=\"dataframe\">\n",
       "  <thead>\n",
       "    <tr style=\"text-align: right;\">\n",
       "      <th></th>\n",
       "      <th>Elementy_rozliczeniowe</th>\n",
       "      <th>Jednostka</th>\n",
       "      <th>Ilosc</th>\n",
       "      <th>Cena_jedn</th>\n",
       "      <th>Wartosc_calkowita</th>\n",
       "      <th>Droga</th>\n",
       "      <th>Rok</th>\n",
       "      <th>Kategoria</th>\n",
       "    </tr>\n",
       "  </thead>\n",
       "  <tbody>\n",
       "    <tr>\n",
       "      <th>count</th>\n",
       "      <td>1170</td>\n",
       "      <td>1170</td>\n",
       "      <td>1170</td>\n",
       "      <td>1170</td>\n",
       "      <td>1170</td>\n",
       "      <td>1170</td>\n",
       "      <td>1170</td>\n",
       "      <td>1170</td>\n",
       "    </tr>\n",
       "    <tr>\n",
       "      <th>unique</th>\n",
       "      <td>509</td>\n",
       "      <td>11</td>\n",
       "      <td>894</td>\n",
       "      <td>539</td>\n",
       "      <td>1090</td>\n",
       "      <td>9</td>\n",
       "      <td>5</td>\n",
       "      <td>27</td>\n",
       "    </tr>\n",
       "    <tr>\n",
       "      <th>top</th>\n",
       "      <td>Znaki wraz z konstrukcjami wsporczymi w grupac...</td>\n",
       "      <td>m2</td>\n",
       "      <td>1.00</td>\n",
       "      <td>16 851.85</td>\n",
       "      <td>22369.14</td>\n",
       "      <td>DK77</td>\n",
       "      <td>2021</td>\n",
       "      <td>ROBOTY PRZYGOTOWAWCZE</td>\n",
       "    </tr>\n",
       "    <tr>\n",
       "      <th>freq</th>\n",
       "      <td>9</td>\n",
       "      <td>390</td>\n",
       "      <td>92</td>\n",
       "      <td>13</td>\n",
       "      <td>11</td>\n",
       "      <td>158</td>\n",
       "      <td>512</td>\n",
       "      <td>149</td>\n",
       "    </tr>\n",
       "  </tbody>\n",
       "</table>\n",
       "</div>"
      ],
      "text/plain": [
       "                                   Elementy_rozliczeniowe Jednostka Ilosc  \\\n",
       "count                                                1170      1170  1170   \n",
       "unique                                                509        11   894   \n",
       "top     Znaki wraz z konstrukcjami wsporczymi w grupac...        m2  1.00   \n",
       "freq                                                    9       390    92   \n",
       "\n",
       "        Cena_jedn Wartosc_calkowita Droga   Rok              Kategoria  \n",
       "count        1170              1170  1170  1170                   1170  \n",
       "unique        539              1090     9     5                     27  \n",
       "top     16 851.85          22369.14  DK77  2021  ROBOTY PRZYGOTOWAWCZE  \n",
       "freq           13                11   158   512                    149  "
      ]
     },
     "execution_count": 6,
     "metadata": {},
     "output_type": "execute_result"
    }
   ],
   "source": [
    "road_data.describe()"
   ]
  },
  {
   "cell_type": "code",
   "execution_count": 7,
   "id": "da22828c",
   "metadata": {},
   "outputs": [
    {
     "data": {
      "text/plain": [
       "str"
      ]
     },
     "execution_count": 7,
     "metadata": {},
     "output_type": "execute_result"
    }
   ],
   "source": [
    "type(road_data['Cena_jedn'].iloc[0])"
   ]
  },
  {
   "cell_type": "code",
   "execution_count": 8,
   "id": "1ba9e161",
   "metadata": {},
   "outputs": [
    {
     "data": {
      "text/plain": [
       "str"
      ]
     },
     "execution_count": 8,
     "metadata": {},
     "output_type": "execute_result"
    }
   ],
   "source": [
    "type(road_data['Wartosc_calkowita'].iloc[0])"
   ]
  },
  {
   "cell_type": "code",
   "execution_count": 9,
   "id": "3cad12bf",
   "metadata": {},
   "outputs": [
    {
     "data": {
      "text/plain": [
       "str"
      ]
     },
     "execution_count": 9,
     "metadata": {},
     "output_type": "execute_result"
    }
   ],
   "source": [
    "type(road_data['Wartosc_calkowita'].iloc[0])"
   ]
  },
  {
   "cell_type": "code",
   "execution_count": 10,
   "id": "9436c08a",
   "metadata": {},
   "outputs": [
    {
     "data": {
      "text/plain": [
       "str"
      ]
     },
     "execution_count": 10,
     "metadata": {},
     "output_type": "execute_result"
    }
   ],
   "source": [
    "type(road_data['Rok'].iloc[0])"
   ]
  },
  {
   "cell_type": "code",
   "execution_count": 11,
   "id": "72ca8c13",
   "metadata": {
    "scrolled": true
   },
   "outputs": [
    {
     "data": {
      "text/plain": [
       "ROBOTY PRZYGOTOWAWCZE                                   149\n",
       "ROBOTY PRZYGOTO                                         149\n",
       "ZIELEŃ DROGOWA                                          129\n",
       "OZNAKOWANIA DRÓG                                        110\n",
       "PODBUDOWY                                               105\n",
       "NAWIERZCHNIE                                             96\n",
       "ELEMENTY ULIC                                            72\n",
       "WARUNKI OGÓLNE                                           66\n",
       "OZNAKOWANIA DRÓG I URZĄDZENIA BEZPIECZEŃSTWA RUCHU       59\n",
       "ROBOTY ZIEMNE                                            49\n",
       "ROBOTY WYKOŃCZE                                          36\n",
       "ROBOTY WYKOŃCZENIOWE                                     27\n",
       "ODWODNIENIE                                              24\n",
       "OZNAKOWANIA DRÓG I                                       23\n",
       "ODWODNIENIE KORPUSU DROGOWEGO                            21\n",
       "ROBOTY WYKOŃCZ                                           16\n",
       "INNE ROBOTY                                              12\n",
       "NAWIERZCHNIE     NAWIERZC                                 7\n",
       "DROGOWA                                                   5\n",
       "WYKOŃCZENIOWE                                             3\n",
       "WYKOŃCZENIOWEROBOTY                                       3\n",
       "ROBOTY WYKOŃCZEROBOTY                                     3\n",
       "PRZYGOTOWAWCZE                                            2\n",
       "ODWODNIENIE ODWODNI                                       1\n",
       "WARSTWA MROZOOCHRONNA Z MIESZANKI NIEZWIĄZANEJ            1\n",
       "LpNAWIERZCHNIE                                            1\n",
       "LpOZNAKOWANIA DRÓG I URZĄDZENIA BEZPIECZEŃSTWA RUCHU      1\n",
       "Name: Kategoria, dtype: int64"
      ]
     },
     "execution_count": 11,
     "metadata": {},
     "output_type": "execute_result"
    }
   ],
   "source": [
    "road_data['Kategoria'].value_counts()"
   ]
  },
  {
   "cell_type": "markdown",
   "id": "b8609c80",
   "metadata": {},
   "source": [
    "**Note**\n",
    "\n",
    "As you can see above,the \"Ilosc, Cena_jedn, Wartosc_calkowita and Rok\" columns contains wrong data type, we will them to float and DateTime data type. What is more the \"Kategoria\" column contain incomplete category names. In the next few steps we will fixx these errors."
   ]
  },
  {
   "cell_type": "markdown",
   "id": "4273beb1",
   "metadata": {},
   "source": [
    "**Cleaning the \"Kategoria\" column**"
   ]
  },
  {
   "cell_type": "code",
   "execution_count": 12,
   "id": "6efe67d6",
   "metadata": {},
   "outputs": [],
   "source": [
    "road_data['Kategoria_fixed'] = road_data['Kategoria'].apply(match_category)"
   ]
  },
  {
   "cell_type": "code",
   "execution_count": 14,
   "id": "d956ea0d",
   "metadata": {},
   "outputs": [],
   "source": [
    "road_data.drop('Kategoria', inplace=True, axis=1)"
   ]
  },
  {
   "cell_type": "code",
   "execution_count": 15,
   "id": "add80570",
   "metadata": {},
   "outputs": [
    {
     "data": {
      "text/html": [
       "<div>\n",
       "<style scoped>\n",
       "    .dataframe tbody tr th:only-of-type {\n",
       "        vertical-align: middle;\n",
       "    }\n",
       "\n",
       "    .dataframe tbody tr th {\n",
       "        vertical-align: top;\n",
       "    }\n",
       "\n",
       "    .dataframe thead th {\n",
       "        text-align: right;\n",
       "    }\n",
       "</style>\n",
       "<table border=\"1\" class=\"dataframe\">\n",
       "  <thead>\n",
       "    <tr style=\"text-align: right;\">\n",
       "      <th></th>\n",
       "      <th>Elementy_rozliczeniowe</th>\n",
       "      <th>Jednostka</th>\n",
       "      <th>Ilosc</th>\n",
       "      <th>Cena_jedn</th>\n",
       "      <th>Wartosc_calkowita</th>\n",
       "      <th>Droga</th>\n",
       "      <th>Rok</th>\n",
       "      <th>Kategoria_fixed</th>\n",
       "    </tr>\n",
       "  </thead>\n",
       "  <tbody>\n",
       "    <tr>\n",
       "      <th>3</th>\n",
       "      <td>Koszt dostosowania się do wymagań ogólnych zaw...</td>\n",
       "      <td>ryczałt</td>\n",
       "      <td>1.00</td>\n",
       "      <td>280 864.20</td>\n",
       "      <td>280 764.20</td>\n",
       "      <td>DK12ZW</td>\n",
       "      <td>2019</td>\n",
       "      <td>WARUNKI OGOLNE</td>\n",
       "    </tr>\n",
       "    <tr>\n",
       "      <th>4</th>\n",
       "      <td>Dokumentacja realizacyjno-technologiczna i dok...</td>\n",
       "      <td>ryczałt</td>\n",
       "      <td>1.00</td>\n",
       "      <td>33 703.70</td>\n",
       "      <td>33 603.70</td>\n",
       "      <td>DK12ZW</td>\n",
       "      <td>2019</td>\n",
       "      <td>WARUNKI OGOLNE</td>\n",
       "    </tr>\n",
       "    <tr>\n",
       "      <th>5</th>\n",
       "      <td>Koszt utrzymania dróg, po których odbywać się ...</td>\n",
       "      <td>ryczałt</td>\n",
       "      <td>1.00</td>\n",
       "      <td>224 691.36</td>\n",
       "      <td>224 591.36</td>\n",
       "      <td>DK12ZW</td>\n",
       "      <td>2019</td>\n",
       "      <td>WARUNKI OGOLNE</td>\n",
       "    </tr>\n",
       "    <tr>\n",
       "      <th>6</th>\n",
       "      <td>Saperskie sprawdzenie terenu pod kątem niewypa...</td>\n",
       "      <td>ryczałt</td>\n",
       "      <td>1.00</td>\n",
       "      <td>33 703.70</td>\n",
       "      <td>33 603.70</td>\n",
       "      <td>DK12ZW</td>\n",
       "      <td>2019</td>\n",
       "      <td>WARUNKI OGOLNE</td>\n",
       "    </tr>\n",
       "    <tr>\n",
       "      <th>7</th>\n",
       "      <td>Nadzór archeologiczny wraz z wykonaniem ratown...</td>\n",
       "      <td>ryczałt</td>\n",
       "      <td>1.00</td>\n",
       "      <td>28 086.42</td>\n",
       "      <td>27 986.42</td>\n",
       "      <td>DK12ZW</td>\n",
       "      <td>2019</td>\n",
       "      <td>WARUNKI OGOLNE</td>\n",
       "    </tr>\n",
       "    <tr>\n",
       "      <th>...</th>\n",
       "      <td>...</td>\n",
       "      <td>...</td>\n",
       "      <td>...</td>\n",
       "      <td>...</td>\n",
       "      <td>...</td>\n",
       "      <td>...</td>\n",
       "      <td>...</td>\n",
       "      <td>...</td>\n",
       "    </tr>\n",
       "    <tr>\n",
       "      <th>28</th>\n",
       "      <td>Klon zwyczajny (Acer platanoides) - Pa. w form...</td>\n",
       "      <td>szt.</td>\n",
       "      <td>9.00</td>\n",
       "      <td>5 617.28</td>\n",
       "      <td>50455.56</td>\n",
       "      <td>DW763B</td>\n",
       "      <td>2022</td>\n",
       "      <td>ZIELEN DROGOWA</td>\n",
       "    </tr>\n",
       "    <tr>\n",
       "      <th>29</th>\n",
       "      <td>Brzoza omszona (Betula pubescens)  - Pa. w for...</td>\n",
       "      <td>szt.</td>\n",
       "      <td>47.00</td>\n",
       "      <td>5 617.28</td>\n",
       "      <td>263912.35</td>\n",
       "      <td>DW763B</td>\n",
       "      <td>2022</td>\n",
       "      <td>ZIELEN DROGOWA</td>\n",
       "    </tr>\n",
       "    <tr>\n",
       "      <th>33</th>\n",
       "      <td>Wykonanie schodów i zejść z elementów betonowy...</td>\n",
       "      <td>m2</td>\n",
       "      <td>27.80</td>\n",
       "      <td>500.89</td>\n",
       "      <td>13824.83</td>\n",
       "      <td>DW763B</td>\n",
       "      <td>2022</td>\n",
       "      <td>INNE ROBOTY</td>\n",
       "    </tr>\n",
       "    <tr>\n",
       "      <th>34</th>\n",
       "      <td>Wykonanie balustrady przy schodach terenowych</td>\n",
       "      <td>m</td>\n",
       "      <td>28.00</td>\n",
       "      <td>251.36</td>\n",
       "      <td>6938.14</td>\n",
       "      <td>DW763B</td>\n",
       "      <td>2022</td>\n",
       "      <td>INNE ROBOTY</td>\n",
       "    </tr>\n",
       "    <tr>\n",
       "      <th>35</th>\n",
       "      <td>Wykonanie pochylni</td>\n",
       "      <td>m2</td>\n",
       "      <td>147.10</td>\n",
       "      <td>505.56</td>\n",
       "      <td>74267.22</td>\n",
       "      <td>DW763B</td>\n",
       "      <td>2022</td>\n",
       "      <td>INNE ROBOTY</td>\n",
       "    </tr>\n",
       "  </tbody>\n",
       "</table>\n",
       "<p>1170 rows × 8 columns</p>\n",
       "</div>"
      ],
      "text/plain": [
       "                               Elementy_rozliczeniowe Jednostka   Ilosc  \\\n",
       "3   Koszt dostosowania się do wymagań ogólnych zaw...   ryczałt    1.00   \n",
       "4   Dokumentacja realizacyjno-technologiczna i dok...   ryczałt    1.00   \n",
       "5   Koszt utrzymania dróg, po których odbywać się ...   ryczałt    1.00   \n",
       "6   Saperskie sprawdzenie terenu pod kątem niewypa...   ryczałt    1.00   \n",
       "7   Nadzór archeologiczny wraz z wykonaniem ratown...   ryczałt    1.00   \n",
       "..                                                ...       ...     ...   \n",
       "28  Klon zwyczajny (Acer platanoides) - Pa. w form...      szt.    9.00   \n",
       "29  Brzoza omszona (Betula pubescens)  - Pa. w for...      szt.   47.00   \n",
       "33  Wykonanie schodów i zejść z elementów betonowy...        m2   27.80   \n",
       "34      Wykonanie balustrady przy schodach terenowych         m   28.00   \n",
       "35                                 Wykonanie pochylni        m2  147.10   \n",
       "\n",
       "     Cena_jedn Wartosc_calkowita   Droga   Rok Kategoria_fixed  \n",
       "3   280 864.20        280 764.20  DK12ZW  2019  WARUNKI OGOLNE  \n",
       "4    33 703.70         33 603.70  DK12ZW  2019  WARUNKI OGOLNE  \n",
       "5   224 691.36        224 591.36  DK12ZW  2019  WARUNKI OGOLNE  \n",
       "6    33 703.70         33 603.70  DK12ZW  2019  WARUNKI OGOLNE  \n",
       "7    28 086.42         27 986.42  DK12ZW  2019  WARUNKI OGOLNE  \n",
       "..         ...               ...     ...   ...             ...  \n",
       "28    5 617.28          50455.56  DW763B  2022  ZIELEN DROGOWA  \n",
       "29    5 617.28         263912.35  DW763B  2022  ZIELEN DROGOWA  \n",
       "33      500.89          13824.83  DW763B  2022     INNE ROBOTY  \n",
       "34      251.36           6938.14  DW763B  2022     INNE ROBOTY  \n",
       "35      505.56          74267.22  DW763B  2022     INNE ROBOTY  \n",
       "\n",
       "[1170 rows x 8 columns]"
      ]
     },
     "execution_count": 15,
     "metadata": {},
     "output_type": "execute_result"
    }
   ],
   "source": [
    "road_data"
   ]
  },
  {
   "cell_type": "code",
   "execution_count": 17,
   "id": "c1a5a62e",
   "metadata": {},
   "outputs": [
    {
     "data": {
      "text/plain": [
       "ROBOTY PRZYGOTOWAWCZE            300\n",
       "OZNAKOWANIA DROG                 193\n",
       "ZIELEN DROGOWA                   134\n",
       "PODBUDOWY                        105\n",
       "NAWIERZCHNIE                     104\n",
       "ROBOTY WYKONCZENIOWE              89\n",
       "ELEMENTY ULIC                     72\n",
       "WARUNKI OGOLNE                    66\n",
       "ROBOTY ZIEMNE                     49\n",
       "ODWODNIENIE                       25\n",
       "ODWODNIENIE KORPUSU DROGOWEGO     21\n",
       "INNE ROBOTY                       12\n",
       "Name: Kategoria_fixed, dtype: int64"
      ]
     },
     "execution_count": 17,
     "metadata": {},
     "output_type": "execute_result"
    }
   ],
   "source": [
    "road_data['Kategoria_fixed'].value_counts()"
   ]
  },
  {
   "cell_type": "code",
   "execution_count": null,
   "id": "551ebc82",
   "metadata": {},
   "outputs": [],
   "source": []
  }
 ],
 "metadata": {
  "kernelspec": {
   "display_name": "AnalizaDanych",
   "language": "python",
   "name": "analizadanych"
  },
  "language_info": {
   "codemirror_mode": {
    "name": "ipython",
    "version": 3
   },
   "file_extension": ".py",
   "mimetype": "text/x-python",
   "name": "python",
   "nbconvert_exporter": "python",
   "pygments_lexer": "ipython3",
   "version": "3.8.5"
  }
 },
 "nbformat": 4,
 "nbformat_minor": 5
}
