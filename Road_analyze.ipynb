{
 "cells": [
  {
   "cell_type": "markdown",
   "id": "c5a3997a",
   "metadata": {},
   "source": [
    "# ROAD COST ANALYSIS \n",
    "\n",
    "## PART I - DATA PREPARATION\n"
   ]
  },
  {
   "cell_type": "markdown",
   "id": "90c76af9",
   "metadata": {},
   "source": [
    "### Introduction\n",
    "\n",
    "In this data analysis project we will look at the cost of road construction in Poland. It is said that road construction in Poland is much more expensive than in neighboring countries and the quality of the new routes does not meet the requirements of users.\n",
    "\n",
    "We will check the list of elements of newly build or rebuilt roads and what road elements contribute the most to the high cost of roads in Poland and what does it look like from the inside.\n",
    "\n",
    "The analysis will be carried out on the basis of real data for which the names of the roads covered by the analysis have been changed.\n",
    "\n",
    "The input material are pdf files obtained from a reputable polish construction company, the explanation of which is presented below.\n",
    "\n",
    "The data contains the following columns:\n",
    "\n",
    "* 'Lp.': Ordinal number\n",
    "* 'CPV': Central Product Classification code\n",
    "* 'Numer Specyfikacji Technicznej': Technical Specification code\n",
    "* 'Elementy rozliczeniowe': Billing elements\n",
    "* 'Jednostka': Measure unit\n",
    "* 'Ilosc': quantity\n",
    "* 'Cena jedn': Unit price\n",
    "* 'Wartosc calkowita': Total value\n",
    "* 'Droga': Road number\n",
    "* 'Rok': Year of construction\n",
    "* 'Kategoria': Category of construction works\n",
    " \n"
   ]
  },
  {
   "cell_type": "markdown",
   "id": "aec633e9",
   "metadata": {},
   "source": [
    "**Import Libraries**"
   ]
  },
  {
   "cell_type": "code",
   "execution_count": 1,
   "id": "52f4be1d",
   "metadata": {},
   "outputs": [],
   "source": [
    "import pandas as pd\n",
    "\n",
    "from functions.pdf_tools import pdf_reader, pdf_cleaner, match_category"
   ]
  },
  {
   "cell_type": "markdown",
   "id": "723e962f",
   "metadata": {},
   "source": [
    "**Read pdf files**"
   ]
  },
  {
   "cell_type": "code",
   "execution_count": 2,
   "id": "8a9b0d2a",
   "metadata": {},
   "outputs": [],
   "source": [
    "road_data = pdf_reader('..\\Projekt_Analiza_Danych\\DATA\\*.pdf')"
   ]
  },
  {
   "cell_type": "markdown",
   "id": "d3c2890e",
   "metadata": {},
   "source": [
    "**Initial data clean**"
   ]
  },
  {
   "cell_type": "code",
   "execution_count": 3,
   "id": "a3085c9a",
   "metadata": {},
   "outputs": [],
   "source": [
    "road_data = pdf_cleaner(road_data)"
   ]
  },
  {
   "cell_type": "markdown",
   "id": "1dcb5b23",
   "metadata": {},
   "source": [
    "**Checking the basic informations of the DataFrame.**"
   ]
  },
  {
   "cell_type": "code",
   "execution_count": 4,
   "id": "52b8ff7a",
   "metadata": {},
   "outputs": [
    {
     "data": {
      "text/html": [
       "<div>\n",
       "<style scoped>\n",
       "    .dataframe tbody tr th:only-of-type {\n",
       "        vertical-align: middle;\n",
       "    }\n",
       "\n",
       "    .dataframe tbody tr th {\n",
       "        vertical-align: top;\n",
       "    }\n",
       "\n",
       "    .dataframe thead th {\n",
       "        text-align: right;\n",
       "    }\n",
       "</style>\n",
       "<table border=\"1\" class=\"dataframe\">\n",
       "  <thead>\n",
       "    <tr style=\"text-align: right;\">\n",
       "      <th></th>\n",
       "      <th>Elementy_rozliczeniowe</th>\n",
       "      <th>Jednostka</th>\n",
       "      <th>Ilosc</th>\n",
       "      <th>Cena_jedn</th>\n",
       "      <th>Wartosc_calkowita</th>\n",
       "      <th>Droga</th>\n",
       "      <th>Rok</th>\n",
       "      <th>Kategoria</th>\n",
       "    </tr>\n",
       "  </thead>\n",
       "  <tbody>\n",
       "    <tr>\n",
       "      <th>3</th>\n",
       "      <td>Koszt dostosowania się do wymagań ogólnych zaw...</td>\n",
       "      <td>ryczałt</td>\n",
       "      <td>1.00</td>\n",
       "      <td>280864.20</td>\n",
       "      <td>280764.20</td>\n",
       "      <td>DK12ZW</td>\n",
       "      <td>2019</td>\n",
       "      <td>WARUNKI OGÓLNE</td>\n",
       "    </tr>\n",
       "    <tr>\n",
       "      <th>4</th>\n",
       "      <td>Dokumentacja realizacyjno-technologiczna i dok...</td>\n",
       "      <td>ryczałt</td>\n",
       "      <td>1.00</td>\n",
       "      <td>33703.70</td>\n",
       "      <td>33603.70</td>\n",
       "      <td>DK12ZW</td>\n",
       "      <td>2019</td>\n",
       "      <td>WARUNKI OGÓLNE</td>\n",
       "    </tr>\n",
       "    <tr>\n",
       "      <th>5</th>\n",
       "      <td>Koszt utrzymania dróg, po których odbywać się ...</td>\n",
       "      <td>ryczałt</td>\n",
       "      <td>1.00</td>\n",
       "      <td>224691.36</td>\n",
       "      <td>224591.36</td>\n",
       "      <td>DK12ZW</td>\n",
       "      <td>2019</td>\n",
       "      <td>WARUNKI OGÓLNE</td>\n",
       "    </tr>\n",
       "    <tr>\n",
       "      <th>6</th>\n",
       "      <td>Saperskie sprawdzenie terenu pod kątem niewypa...</td>\n",
       "      <td>ryczałt</td>\n",
       "      <td>1.00</td>\n",
       "      <td>33703.70</td>\n",
       "      <td>33603.70</td>\n",
       "      <td>DK12ZW</td>\n",
       "      <td>2019</td>\n",
       "      <td>WARUNKI OGÓLNE</td>\n",
       "    </tr>\n",
       "    <tr>\n",
       "      <th>7</th>\n",
       "      <td>Nadzór archeologiczny wraz z wykonaniem ratown...</td>\n",
       "      <td>ryczałt</td>\n",
       "      <td>1.00</td>\n",
       "      <td>28086.42</td>\n",
       "      <td>27986.42</td>\n",
       "      <td>DK12ZW</td>\n",
       "      <td>2019</td>\n",
       "      <td>WARUNKI OGÓLNE</td>\n",
       "    </tr>\n",
       "  </tbody>\n",
       "</table>\n",
       "</div>"
      ],
      "text/plain": [
       "                              Elementy_rozliczeniowe Jednostka Ilosc  \\\n",
       "3  Koszt dostosowania się do wymagań ogólnych zaw...   ryczałt  1.00   \n",
       "4  Dokumentacja realizacyjno-technologiczna i dok...   ryczałt  1.00   \n",
       "5  Koszt utrzymania dróg, po których odbywać się ...   ryczałt  1.00   \n",
       "6  Saperskie sprawdzenie terenu pod kątem niewypa...   ryczałt  1.00   \n",
       "7  Nadzór archeologiczny wraz z wykonaniem ratown...   ryczałt  1.00   \n",
       "\n",
       "   Cena_jedn Wartosc_calkowita   Droga   Rok       Kategoria  \n",
       "3  280864.20         280764.20  DK12ZW  2019  WARUNKI OGÓLNE  \n",
       "4   33703.70          33603.70  DK12ZW  2019  WARUNKI OGÓLNE  \n",
       "5  224691.36         224591.36  DK12ZW  2019  WARUNKI OGÓLNE  \n",
       "6   33703.70          33603.70  DK12ZW  2019  WARUNKI OGÓLNE  \n",
       "7   28086.42          27986.42  DK12ZW  2019  WARUNKI OGÓLNE  "
      ]
     },
     "execution_count": 4,
     "metadata": {},
     "output_type": "execute_result"
    }
   ],
   "source": [
    "road_data.head()"
   ]
  },
  {
   "cell_type": "code",
   "execution_count": 5,
   "id": "f5c3fb00",
   "metadata": {
    "scrolled": true
   },
   "outputs": [
    {
     "name": "stdout",
     "output_type": "stream",
     "text": [
      "<class 'pandas.core.frame.DataFrame'>\n",
      "Int64Index: 1901 entries, 3 to 15\n",
      "Data columns (total 8 columns):\n",
      " #   Column                  Non-Null Count  Dtype \n",
      "---  ------                  --------------  ----- \n",
      " 0   Elementy_rozliczeniowe  1901 non-null   object\n",
      " 1   Jednostka               1901 non-null   object\n",
      " 2   Ilosc                   1901 non-null   object\n",
      " 3   Cena_jedn               1901 non-null   object\n",
      " 4   Wartosc_calkowita       1901 non-null   object\n",
      " 5   Droga                   1901 non-null   object\n",
      " 6   Rok                     1901 non-null   object\n",
      " 7   Kategoria               1901 non-null   object\n",
      "dtypes: object(8)\n",
      "memory usage: 133.7+ KB\n"
     ]
    }
   ],
   "source": [
    "road_data.info()"
   ]
  },
  {
   "cell_type": "code",
   "execution_count": 6,
   "id": "44b2e4d7",
   "metadata": {
    "scrolled": true
   },
   "outputs": [
    {
     "data": {
      "text/html": [
       "<div>\n",
       "<style scoped>\n",
       "    .dataframe tbody tr th:only-of-type {\n",
       "        vertical-align: middle;\n",
       "    }\n",
       "\n",
       "    .dataframe tbody tr th {\n",
       "        vertical-align: top;\n",
       "    }\n",
       "\n",
       "    .dataframe thead th {\n",
       "        text-align: right;\n",
       "    }\n",
       "</style>\n",
       "<table border=\"1\" class=\"dataframe\">\n",
       "  <thead>\n",
       "    <tr style=\"text-align: right;\">\n",
       "      <th></th>\n",
       "      <th>Elementy_rozliczeniowe</th>\n",
       "      <th>Jednostka</th>\n",
       "      <th>Ilosc</th>\n",
       "      <th>Cena_jedn</th>\n",
       "      <th>Wartosc_calkowita</th>\n",
       "      <th>Droga</th>\n",
       "      <th>Rok</th>\n",
       "      <th>Kategoria</th>\n",
       "    </tr>\n",
       "  </thead>\n",
       "  <tbody>\n",
       "    <tr>\n",
       "      <th>count</th>\n",
       "      <td>1901</td>\n",
       "      <td>1901</td>\n",
       "      <td>1901</td>\n",
       "      <td>1901</td>\n",
       "      <td>1901</td>\n",
       "      <td>1901</td>\n",
       "      <td>1901</td>\n",
       "      <td>1901</td>\n",
       "    </tr>\n",
       "    <tr>\n",
       "      <th>unique</th>\n",
       "      <td>639</td>\n",
       "      <td>12</td>\n",
       "      <td>1211</td>\n",
       "      <td>655</td>\n",
       "      <td>1499</td>\n",
       "      <td>17</td>\n",
       "      <td>7</td>\n",
       "      <td>13</td>\n",
       "    </tr>\n",
       "    <tr>\n",
       "      <th>top</th>\n",
       "      <td>Tablice \"E\"</td>\n",
       "      <td>m2</td>\n",
       "      <td>0.00</td>\n",
       "      <td>0.00</td>\n",
       "      <td>-100.00</td>\n",
       "      <td>DK77</td>\n",
       "      <td>2021</td>\n",
       "      <td>ROBOTY PRZYGOTOWAWCZE</td>\n",
       "    </tr>\n",
       "    <tr>\n",
       "      <th>freq</th>\n",
       "      <td>17</td>\n",
       "      <td>657</td>\n",
       "      <td>198</td>\n",
       "      <td>81</td>\n",
       "      <td>279</td>\n",
       "      <td>156</td>\n",
       "      <td>538</td>\n",
       "      <td>505</td>\n",
       "    </tr>\n",
       "  </tbody>\n",
       "</table>\n",
       "</div>"
      ],
      "text/plain": [
       "       Elementy_rozliczeniowe Jednostka Ilosc Cena_jedn Wartosc_calkowita  \\\n",
       "count                    1901      1901  1901      1901              1901   \n",
       "unique                    639        12  1211       655              1499   \n",
       "top               Tablice \"E\"        m2  0.00      0.00           -100.00   \n",
       "freq                       17       657   198        81               279   \n",
       "\n",
       "       Droga   Rok              Kategoria  \n",
       "count   1901  1901                   1901  \n",
       "unique    17     7                     13  \n",
       "top     DK77  2021  ROBOTY PRZYGOTOWAWCZE  \n",
       "freq     156   538                    505  "
      ]
     },
     "execution_count": 6,
     "metadata": {},
     "output_type": "execute_result"
    }
   ],
   "source": [
    "road_data.describe()"
   ]
  },
  {
   "cell_type": "code",
   "execution_count": 7,
   "id": "da22828c",
   "metadata": {},
   "outputs": [
    {
     "data": {
      "text/plain": [
       "{str}"
      ]
     },
     "execution_count": 7,
     "metadata": {},
     "output_type": "execute_result"
    }
   ],
   "source": [
    "set(road_data['Cena_jedn'].map(type))"
   ]
  },
  {
   "cell_type": "code",
   "execution_count": 8,
   "id": "1ba9e161",
   "metadata": {},
   "outputs": [
    {
     "data": {
      "text/plain": [
       "{str}"
      ]
     },
     "execution_count": 8,
     "metadata": {},
     "output_type": "execute_result"
    }
   ],
   "source": [
    "set(road_data['Ilosc'].map(type))"
   ]
  },
  {
   "cell_type": "code",
   "execution_count": 9,
   "id": "3cad12bf",
   "metadata": {},
   "outputs": [
    {
     "data": {
      "text/plain": [
       "{str}"
      ]
     },
     "execution_count": 9,
     "metadata": {},
     "output_type": "execute_result"
    }
   ],
   "source": [
    "set(road_data['Wartosc_calkowita'].map(type))"
   ]
  },
  {
   "cell_type": "code",
   "execution_count": 10,
   "id": "9436c08a",
   "metadata": {},
   "outputs": [
    {
     "data": {
      "text/plain": [
       "{str}"
      ]
     },
     "execution_count": 10,
     "metadata": {},
     "output_type": "execute_result"
    }
   ],
   "source": [
    "set(road_data['Rok'].map(type))"
   ]
  },
  {
   "cell_type": "code",
   "execution_count": 11,
   "id": "72ca8c13",
   "metadata": {
    "scrolled": true
   },
   "outputs": [
    {
     "data": {
      "text/plain": [
       "ROBOTY PRZYGOTOWAWCZE                                 505\n",
       "OZNAKOWANIA DRÓG I URZĄDZENIA BEZPIECZEŃSTWA RUCHU    313\n",
       "PODBUDOWY                                             223\n",
       "NAWIERZCHNIE                                          174\n",
       "ZIELEŃ DROGOWA                                        161\n",
       "ELEMENTY ULIC                                         135\n",
       "ROBOTY WYKOŃCZENIOWE                                  125\n",
       "WARUNKI OGÓLNE                                         87\n",
       "ROBOTY ZIEMNE                                          77\n",
       "ODWODNIENIE KORPUSU DROGOWEGO                          69\n",
       "INNE ROBOTY                                            29\n",
       "WYMAGANIA OGÓLNE                                        2\n",
       "WARSTWA MROZOOCHRONNA Z MIESZANKI NIEZWIĄZANEJ          1\n",
       "Name: Kategoria, dtype: int64"
      ]
     },
     "execution_count": 11,
     "metadata": {},
     "output_type": "execute_result"
    }
   ],
   "source": [
    "road_data['Kategoria'].value_counts()"
   ]
  },
  {
   "cell_type": "markdown",
   "id": "b8609c80",
   "metadata": {},
   "source": [
    "**Note**\n",
    "\n",
    "As you can see above,the \"Ilosc, Cena_jedn, Wartosc_calkowita and Rok\" columns contains wrong data type, we will convert them to float and DateTime data type. What is more the \"Kategoria\" column contain incomplete category names. In the next few steps we will fix these errors."
   ]
  },
  {
   "cell_type": "markdown",
   "id": "4273beb1",
   "metadata": {},
   "source": [
    "**Cleaning the \"Kategoria\" column**"
   ]
  },
  {
   "cell_type": "code",
   "execution_count": 12,
   "id": "6efe67d6",
   "metadata": {},
   "outputs": [],
   "source": [
    "road_data['Kategoria_fixed'] = road_data['Kategoria'].apply(match_category)"
   ]
  },
  {
   "cell_type": "code",
   "execution_count": 13,
   "id": "d956ea0d",
   "metadata": {},
   "outputs": [],
   "source": [
    "road_data.drop('Kategoria', inplace=True, axis=1)"
   ]
  },
  {
   "cell_type": "code",
   "execution_count": 14,
   "id": "add80570",
   "metadata": {},
   "outputs": [
    {
     "data": {
      "text/html": [
       "<div>\n",
       "<style scoped>\n",
       "    .dataframe tbody tr th:only-of-type {\n",
       "        vertical-align: middle;\n",
       "    }\n",
       "\n",
       "    .dataframe tbody tr th {\n",
       "        vertical-align: top;\n",
       "    }\n",
       "\n",
       "    .dataframe thead th {\n",
       "        text-align: right;\n",
       "    }\n",
       "</style>\n",
       "<table border=\"1\" class=\"dataframe\">\n",
       "  <thead>\n",
       "    <tr style=\"text-align: right;\">\n",
       "      <th></th>\n",
       "      <th>Elementy_rozliczeniowe</th>\n",
       "      <th>Jednostka</th>\n",
       "      <th>Ilosc</th>\n",
       "      <th>Cena_jedn</th>\n",
       "      <th>Wartosc_calkowita</th>\n",
       "      <th>Droga</th>\n",
       "      <th>Rok</th>\n",
       "      <th>Kategoria_fixed</th>\n",
       "    </tr>\n",
       "  </thead>\n",
       "  <tbody>\n",
       "    <tr>\n",
       "      <th>3</th>\n",
       "      <td>Koszt dostosowania się do wymagań ogólnych zaw...</td>\n",
       "      <td>ryczałt</td>\n",
       "      <td>1.00</td>\n",
       "      <td>280864.20</td>\n",
       "      <td>280764.20</td>\n",
       "      <td>DK12ZW</td>\n",
       "      <td>2019</td>\n",
       "      <td>WARUNKI OGOLNE</td>\n",
       "    </tr>\n",
       "    <tr>\n",
       "      <th>4</th>\n",
       "      <td>Dokumentacja realizacyjno-technologiczna i dok...</td>\n",
       "      <td>ryczałt</td>\n",
       "      <td>1.00</td>\n",
       "      <td>33703.70</td>\n",
       "      <td>33603.70</td>\n",
       "      <td>DK12ZW</td>\n",
       "      <td>2019</td>\n",
       "      <td>WARUNKI OGOLNE</td>\n",
       "    </tr>\n",
       "    <tr>\n",
       "      <th>5</th>\n",
       "      <td>Koszt utrzymania dróg, po których odbywać się ...</td>\n",
       "      <td>ryczałt</td>\n",
       "      <td>1.00</td>\n",
       "      <td>224691.36</td>\n",
       "      <td>224591.36</td>\n",
       "      <td>DK12ZW</td>\n",
       "      <td>2019</td>\n",
       "      <td>WARUNKI OGOLNE</td>\n",
       "    </tr>\n",
       "    <tr>\n",
       "      <th>6</th>\n",
       "      <td>Saperskie sprawdzenie terenu pod kątem niewypa...</td>\n",
       "      <td>ryczałt</td>\n",
       "      <td>1.00</td>\n",
       "      <td>33703.70</td>\n",
       "      <td>33603.70</td>\n",
       "      <td>DK12ZW</td>\n",
       "      <td>2019</td>\n",
       "      <td>WARUNKI OGOLNE</td>\n",
       "    </tr>\n",
       "    <tr>\n",
       "      <th>7</th>\n",
       "      <td>Nadzór archeologiczny wraz z wykonaniem ratown...</td>\n",
       "      <td>ryczałt</td>\n",
       "      <td>1.00</td>\n",
       "      <td>28086.42</td>\n",
       "      <td>27986.42</td>\n",
       "      <td>DK12ZW</td>\n",
       "      <td>2019</td>\n",
       "      <td>WARUNKI OGOLNE</td>\n",
       "    </tr>\n",
       "    <tr>\n",
       "      <th>...</th>\n",
       "      <td>...</td>\n",
       "      <td>...</td>\n",
       "      <td>...</td>\n",
       "      <td>...</td>\n",
       "      <td>...</td>\n",
       "      <td>...</td>\n",
       "      <td>...</td>\n",
       "      <td>...</td>\n",
       "    </tr>\n",
       "    <tr>\n",
       "      <th>6</th>\n",
       "      <td>Mieszanka roślin rabatowych</td>\n",
       "      <td>m2</td>\n",
       "      <td>100.00</td>\n",
       "      <td>56.17</td>\n",
       "      <td>5517.28</td>\n",
       "      <td>DW919SK</td>\n",
       "      <td>2015</td>\n",
       "      <td>ZIELEN DROGOWA</td>\n",
       "    </tr>\n",
       "    <tr>\n",
       "      <th>10</th>\n",
       "      <td>Ścianki oporowe typu \"L\" - gr 25 cm, wysokość ...</td>\n",
       "      <td>m</td>\n",
       "      <td>51.00</td>\n",
       "      <td>1150.87</td>\n",
       "      <td>58594.33</td>\n",
       "      <td>DW919SK</td>\n",
       "      <td>2015</td>\n",
       "      <td>INNE ROBOTY</td>\n",
       "    </tr>\n",
       "    <tr>\n",
       "      <th>11</th>\n",
       "      <td>Ścianki oporowe typu \"L\" - gr. 10 cm, wysokość...</td>\n",
       "      <td>m</td>\n",
       "      <td>8.00</td>\n",
       "      <td>308.16</td>\n",
       "      <td>2365.31</td>\n",
       "      <td>DW919SK</td>\n",
       "      <td>2015</td>\n",
       "      <td>INNE ROBOTY</td>\n",
       "    </tr>\n",
       "    <tr>\n",
       "      <th>13</th>\n",
       "      <td>Wykonanie schodów i zejść do posesji z element...</td>\n",
       "      <td>m2</td>\n",
       "      <td>25.16</td>\n",
       "      <td>276.75</td>\n",
       "      <td>6863.23</td>\n",
       "      <td>DW919SK</td>\n",
       "      <td>2015</td>\n",
       "      <td>INNE ROBOTY</td>\n",
       "    </tr>\n",
       "    <tr>\n",
       "      <th>15</th>\n",
       "      <td>Pomiar powykonawczy zrealizowanych obiektów dr...</td>\n",
       "      <td>km</td>\n",
       "      <td>12.98</td>\n",
       "      <td>33511.83</td>\n",
       "      <td>434749.97</td>\n",
       "      <td>DW919SK</td>\n",
       "      <td>2015</td>\n",
       "      <td>INNE ROBOTY</td>\n",
       "    </tr>\n",
       "  </tbody>\n",
       "</table>\n",
       "<p>1901 rows × 8 columns</p>\n",
       "</div>"
      ],
      "text/plain": [
       "                               Elementy_rozliczeniowe Jednostka   Ilosc  \\\n",
       "3   Koszt dostosowania się do wymagań ogólnych zaw...   ryczałt    1.00   \n",
       "4   Dokumentacja realizacyjno-technologiczna i dok...   ryczałt    1.00   \n",
       "5   Koszt utrzymania dróg, po których odbywać się ...   ryczałt    1.00   \n",
       "6   Saperskie sprawdzenie terenu pod kątem niewypa...   ryczałt    1.00   \n",
       "7   Nadzór archeologiczny wraz z wykonaniem ratown...   ryczałt    1.00   \n",
       "..                                                ...       ...     ...   \n",
       "6                         Mieszanka roślin rabatowych        m2  100.00   \n",
       "10  Ścianki oporowe typu \"L\" - gr 25 cm, wysokość ...         m   51.00   \n",
       "11  Ścianki oporowe typu \"L\" - gr. 10 cm, wysokość...         m    8.00   \n",
       "13  Wykonanie schodów i zejść do posesji z element...        m2   25.16   \n",
       "15  Pomiar powykonawczy zrealizowanych obiektów dr...        km   12.98   \n",
       "\n",
       "    Cena_jedn Wartosc_calkowita    Droga   Rok Kategoria_fixed  \n",
       "3   280864.20         280764.20   DK12ZW  2019  WARUNKI OGOLNE  \n",
       "4    33703.70          33603.70   DK12ZW  2019  WARUNKI OGOLNE  \n",
       "5   224691.36         224591.36   DK12ZW  2019  WARUNKI OGOLNE  \n",
       "6    33703.70          33603.70   DK12ZW  2019  WARUNKI OGOLNE  \n",
       "7    28086.42          27986.42   DK12ZW  2019  WARUNKI OGOLNE  \n",
       "..        ...               ...      ...   ...             ...  \n",
       "6       56.17           5517.28  DW919SK  2015  ZIELEN DROGOWA  \n",
       "10    1150.87          58594.33  DW919SK  2015     INNE ROBOTY  \n",
       "11     308.16           2365.31  DW919SK  2015     INNE ROBOTY  \n",
       "13     276.75           6863.23  DW919SK  2015     INNE ROBOTY  \n",
       "15   33511.83         434749.97  DW919SK  2015     INNE ROBOTY  \n",
       "\n",
       "[1901 rows x 8 columns]"
      ]
     },
     "execution_count": 14,
     "metadata": {},
     "output_type": "execute_result"
    }
   ],
   "source": [
    "road_data"
   ]
  },
  {
   "cell_type": "code",
   "execution_count": 15,
   "id": "c1a5a62e",
   "metadata": {},
   "outputs": [],
   "source": [
    "road_data['Ilosc'] = pd.to_numeric(road_data['Ilosc'],errors='coerce')"
   ]
  },
  {
   "cell_type": "markdown",
   "id": "7a1e3a73",
   "metadata": {},
   "source": [
    "**Cleaning the \"Ilosc\", \"Cena_jedn\" and \"Wartosc_calkowita\" columns**"
   ]
  },
  {
   "cell_type": "code",
   "execution_count": 16,
   "id": "d177d492",
   "metadata": {},
   "outputs": [],
   "source": [
    "road_data['Ilosc'] = pd.to_numeric(road_data['Ilosc'],errors='coerce')"
   ]
  },
  {
   "cell_type": "code",
   "execution_count": 17,
   "id": "3430c264",
   "metadata": {},
   "outputs": [],
   "source": [
    "road_data['Cena_jedn'] = pd.to_numeric(road_data['Cena_jedn'],errors='coerce')"
   ]
  },
  {
   "cell_type": "code",
   "execution_count": 19,
   "id": "93b4dbde",
   "metadata": {},
   "outputs": [],
   "source": [
    "road_data['Wartosc_calkowita'] = pd.to_numeric(road_data['Wartosc_calkowita'],errors='coerce')"
   ]
  },
  {
   "cell_type": "markdown",
   "id": "69abfc72",
   "metadata": {},
   "source": [
    "**Cleaning the \"Rok\" column**"
   ]
  },
  {
   "cell_type": "code",
   "execution_count": 20,
   "id": "3eaa0b80",
   "metadata": {},
   "outputs": [],
   "source": [
    "road_data['Rok'] = pd.to_numeric(road_data['Rok'],errors='coerce')"
   ]
  },
  {
   "cell_type": "code",
   "execution_count": 22,
   "id": "a223ac5a",
   "metadata": {},
   "outputs": [],
   "source": [
    "road_data['Rok'] = pd.to_datetime(road_data['Rok'], format='%Y')"
   ]
  },
  {
   "cell_type": "code",
   "execution_count": 23,
   "id": "41e148ed",
   "metadata": {},
   "outputs": [
    {
     "data": {
      "text/html": [
       "<div>\n",
       "<style scoped>\n",
       "    .dataframe tbody tr th:only-of-type {\n",
       "        vertical-align: middle;\n",
       "    }\n",
       "\n",
       "    .dataframe tbody tr th {\n",
       "        vertical-align: top;\n",
       "    }\n",
       "\n",
       "    .dataframe thead th {\n",
       "        text-align: right;\n",
       "    }\n",
       "</style>\n",
       "<table border=\"1\" class=\"dataframe\">\n",
       "  <thead>\n",
       "    <tr style=\"text-align: right;\">\n",
       "      <th></th>\n",
       "      <th>Elementy_rozliczeniowe</th>\n",
       "      <th>Jednostka</th>\n",
       "      <th>Ilosc</th>\n",
       "      <th>Cena_jedn</th>\n",
       "      <th>Wartosc_calkowita</th>\n",
       "      <th>Droga</th>\n",
       "      <th>Rok</th>\n",
       "      <th>Kategoria_fixed</th>\n",
       "    </tr>\n",
       "  </thead>\n",
       "  <tbody>\n",
       "    <tr>\n",
       "      <th>3</th>\n",
       "      <td>Koszt dostosowania się do wymagań ogólnych zaw...</td>\n",
       "      <td>ryczałt</td>\n",
       "      <td>1.00</td>\n",
       "      <td>280864.20</td>\n",
       "      <td>280764.20</td>\n",
       "      <td>DK12ZW</td>\n",
       "      <td>2019-01-01</td>\n",
       "      <td>WARUNKI OGOLNE</td>\n",
       "    </tr>\n",
       "    <tr>\n",
       "      <th>4</th>\n",
       "      <td>Dokumentacja realizacyjno-technologiczna i dok...</td>\n",
       "      <td>ryczałt</td>\n",
       "      <td>1.00</td>\n",
       "      <td>33703.70</td>\n",
       "      <td>33603.70</td>\n",
       "      <td>DK12ZW</td>\n",
       "      <td>2019-01-01</td>\n",
       "      <td>WARUNKI OGOLNE</td>\n",
       "    </tr>\n",
       "    <tr>\n",
       "      <th>5</th>\n",
       "      <td>Koszt utrzymania dróg, po których odbywać się ...</td>\n",
       "      <td>ryczałt</td>\n",
       "      <td>1.00</td>\n",
       "      <td>224691.36</td>\n",
       "      <td>224591.36</td>\n",
       "      <td>DK12ZW</td>\n",
       "      <td>2019-01-01</td>\n",
       "      <td>WARUNKI OGOLNE</td>\n",
       "    </tr>\n",
       "    <tr>\n",
       "      <th>6</th>\n",
       "      <td>Saperskie sprawdzenie terenu pod kątem niewypa...</td>\n",
       "      <td>ryczałt</td>\n",
       "      <td>1.00</td>\n",
       "      <td>33703.70</td>\n",
       "      <td>33603.70</td>\n",
       "      <td>DK12ZW</td>\n",
       "      <td>2019-01-01</td>\n",
       "      <td>WARUNKI OGOLNE</td>\n",
       "    </tr>\n",
       "    <tr>\n",
       "      <th>7</th>\n",
       "      <td>Nadzór archeologiczny wraz z wykonaniem ratown...</td>\n",
       "      <td>ryczałt</td>\n",
       "      <td>1.00</td>\n",
       "      <td>28086.42</td>\n",
       "      <td>27986.42</td>\n",
       "      <td>DK12ZW</td>\n",
       "      <td>2019-01-01</td>\n",
       "      <td>WARUNKI OGOLNE</td>\n",
       "    </tr>\n",
       "    <tr>\n",
       "      <th>...</th>\n",
       "      <td>...</td>\n",
       "      <td>...</td>\n",
       "      <td>...</td>\n",
       "      <td>...</td>\n",
       "      <td>...</td>\n",
       "      <td>...</td>\n",
       "      <td>...</td>\n",
       "      <td>...</td>\n",
       "    </tr>\n",
       "    <tr>\n",
       "      <th>6</th>\n",
       "      <td>Mieszanka roślin rabatowych</td>\n",
       "      <td>m2</td>\n",
       "      <td>100.00</td>\n",
       "      <td>56.17</td>\n",
       "      <td>5517.28</td>\n",
       "      <td>DW919SK</td>\n",
       "      <td>2015-01-01</td>\n",
       "      <td>ZIELEN DROGOWA</td>\n",
       "    </tr>\n",
       "    <tr>\n",
       "      <th>10</th>\n",
       "      <td>Ścianki oporowe typu \"L\" - gr 25 cm, wysokość ...</td>\n",
       "      <td>m</td>\n",
       "      <td>51.00</td>\n",
       "      <td>1150.87</td>\n",
       "      <td>58594.33</td>\n",
       "      <td>DW919SK</td>\n",
       "      <td>2015-01-01</td>\n",
       "      <td>INNE ROBOTY</td>\n",
       "    </tr>\n",
       "    <tr>\n",
       "      <th>11</th>\n",
       "      <td>Ścianki oporowe typu \"L\" - gr. 10 cm, wysokość...</td>\n",
       "      <td>m</td>\n",
       "      <td>8.00</td>\n",
       "      <td>308.16</td>\n",
       "      <td>2365.31</td>\n",
       "      <td>DW919SK</td>\n",
       "      <td>2015-01-01</td>\n",
       "      <td>INNE ROBOTY</td>\n",
       "    </tr>\n",
       "    <tr>\n",
       "      <th>13</th>\n",
       "      <td>Wykonanie schodów i zejść do posesji z element...</td>\n",
       "      <td>m2</td>\n",
       "      <td>25.16</td>\n",
       "      <td>276.75</td>\n",
       "      <td>6863.23</td>\n",
       "      <td>DW919SK</td>\n",
       "      <td>2015-01-01</td>\n",
       "      <td>INNE ROBOTY</td>\n",
       "    </tr>\n",
       "    <tr>\n",
       "      <th>15</th>\n",
       "      <td>Pomiar powykonawczy zrealizowanych obiektów dr...</td>\n",
       "      <td>km</td>\n",
       "      <td>12.98</td>\n",
       "      <td>33511.83</td>\n",
       "      <td>434749.97</td>\n",
       "      <td>DW919SK</td>\n",
       "      <td>2015-01-01</td>\n",
       "      <td>INNE ROBOTY</td>\n",
       "    </tr>\n",
       "  </tbody>\n",
       "</table>\n",
       "<p>1901 rows × 8 columns</p>\n",
       "</div>"
      ],
      "text/plain": [
       "                               Elementy_rozliczeniowe Jednostka   Ilosc  \\\n",
       "3   Koszt dostosowania się do wymagań ogólnych zaw...   ryczałt    1.00   \n",
       "4   Dokumentacja realizacyjno-technologiczna i dok...   ryczałt    1.00   \n",
       "5   Koszt utrzymania dróg, po których odbywać się ...   ryczałt    1.00   \n",
       "6   Saperskie sprawdzenie terenu pod kątem niewypa...   ryczałt    1.00   \n",
       "7   Nadzór archeologiczny wraz z wykonaniem ratown...   ryczałt    1.00   \n",
       "..                                                ...       ...     ...   \n",
       "6                         Mieszanka roślin rabatowych        m2  100.00   \n",
       "10  Ścianki oporowe typu \"L\" - gr 25 cm, wysokość ...         m   51.00   \n",
       "11  Ścianki oporowe typu \"L\" - gr. 10 cm, wysokość...         m    8.00   \n",
       "13  Wykonanie schodów i zejść do posesji z element...        m2   25.16   \n",
       "15  Pomiar powykonawczy zrealizowanych obiektów dr...        km   12.98   \n",
       "\n",
       "    Cena_jedn  Wartosc_calkowita    Droga        Rok Kategoria_fixed  \n",
       "3   280864.20          280764.20   DK12ZW 2019-01-01  WARUNKI OGOLNE  \n",
       "4    33703.70           33603.70   DK12ZW 2019-01-01  WARUNKI OGOLNE  \n",
       "5   224691.36          224591.36   DK12ZW 2019-01-01  WARUNKI OGOLNE  \n",
       "6    33703.70           33603.70   DK12ZW 2019-01-01  WARUNKI OGOLNE  \n",
       "7    28086.42           27986.42   DK12ZW 2019-01-01  WARUNKI OGOLNE  \n",
       "..        ...                ...      ...        ...             ...  \n",
       "6       56.17            5517.28  DW919SK 2015-01-01  ZIELEN DROGOWA  \n",
       "10    1150.87           58594.33  DW919SK 2015-01-01     INNE ROBOTY  \n",
       "11     308.16            2365.31  DW919SK 2015-01-01     INNE ROBOTY  \n",
       "13     276.75            6863.23  DW919SK 2015-01-01     INNE ROBOTY  \n",
       "15   33511.83          434749.97  DW919SK 2015-01-01     INNE ROBOTY  \n",
       "\n",
       "[1901 rows x 8 columns]"
      ]
     },
     "execution_count": 23,
     "metadata": {},
     "output_type": "execute_result"
    }
   ],
   "source": [
    "road_data"
   ]
  },
  {
   "cell_type": "code",
   "execution_count": 24,
   "id": "9e8471b3",
   "metadata": {},
   "outputs": [
    {
     "name": "stdout",
     "output_type": "stream",
     "text": [
      "<class 'pandas.core.frame.DataFrame'>\n",
      "Int64Index: 1901 entries, 3 to 15\n",
      "Data columns (total 8 columns):\n",
      " #   Column                  Non-Null Count  Dtype         \n",
      "---  ------                  --------------  -----         \n",
      " 0   Elementy_rozliczeniowe  1901 non-null   object        \n",
      " 1   Jednostka               1901 non-null   object        \n",
      " 2   Ilosc                   1899 non-null   float64       \n",
      " 3   Cena_jedn               1901 non-null   float64       \n",
      " 4   Wartosc_calkowita       1899 non-null   float64       \n",
      " 5   Droga                   1901 non-null   object        \n",
      " 6   Rok                     1901 non-null   datetime64[ns]\n",
      " 7   Kategoria_fixed         1901 non-null   object        \n",
      "dtypes: datetime64[ns](1), float64(3), object(4)\n",
      "memory usage: 133.7+ KB\n"
     ]
    }
   ],
   "source": [
    "road_data.info()"
   ]
  },
  {
   "cell_type": "code",
   "execution_count": null,
   "id": "b7fbac37",
   "metadata": {},
   "outputs": [],
   "source": []
  }
 ],
 "metadata": {
  "kernelspec": {
   "display_name": "AnalizaDanych",
   "language": "python",
   "name": "analizadanych"
  },
  "language_info": {
   "codemirror_mode": {
    "name": "ipython",
    "version": 3
   },
   "file_extension": ".py",
   "mimetype": "text/x-python",
   "name": "python",
   "nbconvert_exporter": "python",
   "pygments_lexer": "ipython3",
   "version": "3.8.5"
  }
 },
 "nbformat": 4,
 "nbformat_minor": 5
}
