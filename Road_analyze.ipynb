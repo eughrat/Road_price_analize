{
 "cells": [
  {
   "cell_type": "markdown",
   "id": "c5a3997a",
   "metadata": {},
   "source": [
    "# ROAD COST ANALYSIS \n",
    "\n",
    "## PART I - DATA PREPARATION\n"
   ]
  },
  {
   "cell_type": "markdown",
   "id": "90c76af9",
   "metadata": {},
   "source": [
    "### Introduction\n",
    "\n",
    "In this data analysis project we will look at the cost of road construction in Poland. It is said that road construction in Poland is much more expensive than in neighboring countries and the quality of the new routes does not meet the requirements of users.\n",
    "\n",
    "We will check the list of elements of newly build or rebuilt roads and what road elements contribute the most to the high cost of roads in Poland and what does it look like from the inside.\n",
    "\n",
    "The analysis will be carried out on the basis of real data for which the names of the roads covered by the analysis have been changed.\n",
    "\n",
    "The input material are pdf files obtained from a reputable polish construction company, the explanation of which is presented below.\n",
    "\n",
    "The data contains the following columns:\n",
    "\n",
    "* 'Lp.': Ordinal number\n",
    "* 'CPV': Central Product Classification code\n",
    "* 'Numer Specyfikacji Technicznej': Technical Specification code\n",
    "* 'Elementy rozliczeniowe': Billing elements\n",
    "* 'Jednostka': Measure unit\n",
    "* 'Ilosc': quantity\n",
    "* 'Cena jedn': Unit price\n",
    "* 'Wartosc calkowita': Total value\n",
    "* 'Droga': Road number\n",
    "* 'Rok': Year of construction\n",
    "* 'Kategoria': Category of construction works\n",
    " \n"
   ]
  },
  {
   "cell_type": "markdown",
   "id": "aec633e9",
   "metadata": {},
   "source": [
    "**Import Libraries**"
   ]
  },
  {
   "cell_type": "code",
   "execution_count": 1,
   "id": "52f4be1d",
   "metadata": {},
   "outputs": [],
   "source": [
    "import pandas as pd\n",
    "\n",
    "from functions.pdf_tools import pdf_reader, pdf_cleaner, match_category, road_category"
   ]
  },
  {
   "cell_type": "markdown",
   "id": "723e962f",
   "metadata": {},
   "source": [
    "**Read pdf files**"
   ]
  },
  {
   "cell_type": "code",
   "execution_count": 2,
   "id": "8a9b0d2a",
   "metadata": {},
   "outputs": [],
   "source": [
    "road_data = pdf_reader('..\\Projekt_Analiza_Danych\\DATA\\*.pdf')"
   ]
  },
  {
   "cell_type": "markdown",
   "id": "d3c2890e",
   "metadata": {},
   "source": [
    "**Initial data clean**"
   ]
  },
  {
   "cell_type": "code",
   "execution_count": 3,
   "id": "a3085c9a",
   "metadata": {},
   "outputs": [],
   "source": [
    "road_data = pdf_cleaner(road_data)"
   ]
  },
  {
   "cell_type": "markdown",
   "id": "1dcb5b23",
   "metadata": {},
   "source": [
    "**Checking the basic informations of the DataFrame.**"
   ]
  },
  {
   "cell_type": "code",
   "execution_count": 4,
   "id": "52b8ff7a",
   "metadata": {},
   "outputs": [
    {
     "data": {
      "text/html": [
       "<div>\n",
       "<style scoped>\n",
       "    .dataframe tbody tr th:only-of-type {\n",
       "        vertical-align: middle;\n",
       "    }\n",
       "\n",
       "    .dataframe tbody tr th {\n",
       "        vertical-align: top;\n",
       "    }\n",
       "\n",
       "    .dataframe thead th {\n",
       "        text-align: right;\n",
       "    }\n",
       "</style>\n",
       "<table border=\"1\" class=\"dataframe\">\n",
       "  <thead>\n",
       "    <tr style=\"text-align: right;\">\n",
       "      <th></th>\n",
       "      <th>Elementy_rozliczeniowe</th>\n",
       "      <th>Jednostka</th>\n",
       "      <th>Ilosc</th>\n",
       "      <th>Cena_jedn</th>\n",
       "      <th>Wartosc_calkowita</th>\n",
       "      <th>Droga</th>\n",
       "      <th>Rok</th>\n",
       "      <th>Kategoria</th>\n",
       "    </tr>\n",
       "  </thead>\n",
       "  <tbody>\n",
       "    <tr>\n",
       "      <th>3</th>\n",
       "      <td>Koszt dostosowania się do wymagań ogólnych zaw...</td>\n",
       "      <td>ryczałt</td>\n",
       "      <td>1.00</td>\n",
       "      <td>280864.20</td>\n",
       "      <td>280764.20</td>\n",
       "      <td>DK12ZW</td>\n",
       "      <td>2019</td>\n",
       "      <td>WARUNKI OGÓLNE</td>\n",
       "    </tr>\n",
       "    <tr>\n",
       "      <th>4</th>\n",
       "      <td>Dokumentacja realizacyjno-technologiczna i dok...</td>\n",
       "      <td>ryczałt</td>\n",
       "      <td>1.00</td>\n",
       "      <td>33703.70</td>\n",
       "      <td>33603.70</td>\n",
       "      <td>DK12ZW</td>\n",
       "      <td>2019</td>\n",
       "      <td>WARUNKI OGÓLNE</td>\n",
       "    </tr>\n",
       "    <tr>\n",
       "      <th>5</th>\n",
       "      <td>Koszt utrzymania dróg, po których odbywać się ...</td>\n",
       "      <td>ryczałt</td>\n",
       "      <td>1.00</td>\n",
       "      <td>224691.36</td>\n",
       "      <td>224591.36</td>\n",
       "      <td>DK12ZW</td>\n",
       "      <td>2019</td>\n",
       "      <td>WARUNKI OGÓLNE</td>\n",
       "    </tr>\n",
       "    <tr>\n",
       "      <th>6</th>\n",
       "      <td>Saperskie sprawdzenie terenu pod kątem niewypa...</td>\n",
       "      <td>ryczałt</td>\n",
       "      <td>1.00</td>\n",
       "      <td>33703.70</td>\n",
       "      <td>33603.70</td>\n",
       "      <td>DK12ZW</td>\n",
       "      <td>2019</td>\n",
       "      <td>WARUNKI OGÓLNE</td>\n",
       "    </tr>\n",
       "    <tr>\n",
       "      <th>7</th>\n",
       "      <td>Nadzór archeologiczny wraz z wykonaniem ratown...</td>\n",
       "      <td>ryczałt</td>\n",
       "      <td>1.00</td>\n",
       "      <td>28086.42</td>\n",
       "      <td>27986.42</td>\n",
       "      <td>DK12ZW</td>\n",
       "      <td>2019</td>\n",
       "      <td>WARUNKI OGÓLNE</td>\n",
       "    </tr>\n",
       "  </tbody>\n",
       "</table>\n",
       "</div>"
      ],
      "text/plain": [
       "                              Elementy_rozliczeniowe Jednostka Ilosc  \\\n",
       "3  Koszt dostosowania się do wymagań ogólnych zaw...   ryczałt  1.00   \n",
       "4  Dokumentacja realizacyjno-technologiczna i dok...   ryczałt  1.00   \n",
       "5  Koszt utrzymania dróg, po których odbywać się ...   ryczałt  1.00   \n",
       "6  Saperskie sprawdzenie terenu pod kątem niewypa...   ryczałt  1.00   \n",
       "7  Nadzór archeologiczny wraz z wykonaniem ratown...   ryczałt  1.00   \n",
       "\n",
       "   Cena_jedn Wartosc_calkowita   Droga   Rok       Kategoria  \n",
       "3  280864.20         280764.20  DK12ZW  2019  WARUNKI OGÓLNE  \n",
       "4   33703.70          33603.70  DK12ZW  2019  WARUNKI OGÓLNE  \n",
       "5  224691.36         224591.36  DK12ZW  2019  WARUNKI OGÓLNE  \n",
       "6   33703.70          33603.70  DK12ZW  2019  WARUNKI OGÓLNE  \n",
       "7   28086.42          27986.42  DK12ZW  2019  WARUNKI OGÓLNE  "
      ]
     },
     "execution_count": 4,
     "metadata": {},
     "output_type": "execute_result"
    }
   ],
   "source": [
    "road_data.head()"
   ]
  },
  {
   "cell_type": "code",
   "execution_count": 5,
   "id": "f5c3fb00",
   "metadata": {
    "scrolled": true
   },
   "outputs": [
    {
     "name": "stdout",
     "output_type": "stream",
     "text": [
      "<class 'pandas.core.frame.DataFrame'>\n",
      "Int64Index: 154 entries, 3 to 77\n",
      "Data columns (total 8 columns):\n",
      " #   Column                  Non-Null Count  Dtype \n",
      "---  ------                  --------------  ----- \n",
      " 0   Elementy_rozliczeniowe  154 non-null    object\n",
      " 1   Jednostka               154 non-null    object\n",
      " 2   Ilosc                   154 non-null    object\n",
      " 3   Cena_jedn               154 non-null    object\n",
      " 4   Wartosc_calkowita       154 non-null    object\n",
      " 5   Droga                   154 non-null    object\n",
      " 6   Rok                     154 non-null    object\n",
      " 7   Kategoria               154 non-null    object\n",
      "dtypes: object(8)\n",
      "memory usage: 10.8+ KB\n"
     ]
    }
   ],
   "source": [
    "road_data.info()"
   ]
  },
  {
   "cell_type": "code",
   "execution_count": 6,
   "id": "44b2e4d7",
   "metadata": {
    "scrolled": true
   },
   "outputs": [
    {
     "data": {
      "text/html": [
       "<div>\n",
       "<style scoped>\n",
       "    .dataframe tbody tr th:only-of-type {\n",
       "        vertical-align: middle;\n",
       "    }\n",
       "\n",
       "    .dataframe tbody tr th {\n",
       "        vertical-align: top;\n",
       "    }\n",
       "\n",
       "    .dataframe thead th {\n",
       "        text-align: right;\n",
       "    }\n",
       "</style>\n",
       "<table border=\"1\" class=\"dataframe\">\n",
       "  <thead>\n",
       "    <tr style=\"text-align: right;\">\n",
       "      <th></th>\n",
       "      <th>Elementy_rozliczeniowe</th>\n",
       "      <th>Jednostka</th>\n",
       "      <th>Ilosc</th>\n",
       "      <th>Cena_jedn</th>\n",
       "      <th>Wartosc_calkowita</th>\n",
       "      <th>Droga</th>\n",
       "      <th>Rok</th>\n",
       "      <th>Kategoria</th>\n",
       "    </tr>\n",
       "  </thead>\n",
       "  <tbody>\n",
       "    <tr>\n",
       "      <th>count</th>\n",
       "      <td>154</td>\n",
       "      <td>154</td>\n",
       "      <td>154</td>\n",
       "      <td>154</td>\n",
       "      <td>154</td>\n",
       "      <td>154</td>\n",
       "      <td>154</td>\n",
       "      <td>154</td>\n",
       "    </tr>\n",
       "    <tr>\n",
       "      <th>unique</th>\n",
       "      <td>154</td>\n",
       "      <td>8</td>\n",
       "      <td>128</td>\n",
       "      <td>132</td>\n",
       "      <td>150</td>\n",
       "      <td>1</td>\n",
       "      <td>1</td>\n",
       "      <td>11</td>\n",
       "    </tr>\n",
       "    <tr>\n",
       "      <th>top</th>\n",
       "      <td>Koszt dostosowania się do wymagań ogólnych zaw...</td>\n",
       "      <td>szt.</td>\n",
       "      <td>1.00</td>\n",
       "      <td>442.80</td>\n",
       "      <td>33603.70</td>\n",
       "      <td>DK12ZW</td>\n",
       "      <td>2019</td>\n",
       "      <td>ROBOTY PRZYGOTOWAWCZE</td>\n",
       "    </tr>\n",
       "    <tr>\n",
       "      <th>freq</th>\n",
       "      <td>1</td>\n",
       "      <td>53</td>\n",
       "      <td>14</td>\n",
       "      <td>4</td>\n",
       "      <td>3</td>\n",
       "      <td>154</td>\n",
       "      <td>154</td>\n",
       "      <td>40</td>\n",
       "    </tr>\n",
       "  </tbody>\n",
       "</table>\n",
       "</div>"
      ],
      "text/plain": [
       "                                   Elementy_rozliczeniowe Jednostka Ilosc  \\\n",
       "count                                                 154       154   154   \n",
       "unique                                                154         8   128   \n",
       "top     Koszt dostosowania się do wymagań ogólnych zaw...      szt.  1.00   \n",
       "freq                                                    1        53    14   \n",
       "\n",
       "       Cena_jedn Wartosc_calkowita   Droga   Rok              Kategoria  \n",
       "count        154               154     154   154                    154  \n",
       "unique       132               150       1     1                     11  \n",
       "top       442.80          33603.70  DK12ZW  2019  ROBOTY PRZYGOTOWAWCZE  \n",
       "freq           4                 3     154   154                     40  "
      ]
     },
     "execution_count": 6,
     "metadata": {},
     "output_type": "execute_result"
    }
   ],
   "source": [
    "road_data.describe()"
   ]
  },
  {
   "cell_type": "code",
   "execution_count": 7,
   "id": "da22828c",
   "metadata": {},
   "outputs": [
    {
     "data": {
      "text/plain": [
       "{str}"
      ]
     },
     "execution_count": 7,
     "metadata": {},
     "output_type": "execute_result"
    }
   ],
   "source": [
    "set(road_data['Cena_jedn'].map(type))"
   ]
  },
  {
   "cell_type": "code",
   "execution_count": 8,
   "id": "1ba9e161",
   "metadata": {},
   "outputs": [
    {
     "data": {
      "text/plain": [
       "{str}"
      ]
     },
     "execution_count": 8,
     "metadata": {},
     "output_type": "execute_result"
    }
   ],
   "source": [
    "set(road_data['Ilosc'].map(type))"
   ]
  },
  {
   "cell_type": "code",
   "execution_count": 9,
   "id": "3cad12bf",
   "metadata": {},
   "outputs": [
    {
     "data": {
      "text/plain": [
       "{str}"
      ]
     },
     "execution_count": 9,
     "metadata": {},
     "output_type": "execute_result"
    }
   ],
   "source": [
    "set(road_data['Wartosc_calkowita'].map(type))"
   ]
  },
  {
   "cell_type": "code",
   "execution_count": 10,
   "id": "9436c08a",
   "metadata": {},
   "outputs": [
    {
     "data": {
      "text/plain": [
       "{str}"
      ]
     },
     "execution_count": 10,
     "metadata": {},
     "output_type": "execute_result"
    }
   ],
   "source": [
    "set(road_data['Rok'].map(type))"
   ]
  },
  {
   "cell_type": "code",
   "execution_count": 11,
   "id": "72ca8c13",
   "metadata": {
    "scrolled": true
   },
   "outputs": [
    {
     "data": {
      "text/plain": [
       "ROBOTY PRZYGOTOWAWCZE                                 40\n",
       "OZNAKOWANIA DRÓG I URZĄDZENIA BEZPIECZEŃSTWA RUCHU    27\n",
       "ZIELEŃ DROGOWA                                        23\n",
       "NAWIERZCHNIE                                          19\n",
       "PODBUDOWY                                             14\n",
       "ROBOTY WYKOŃCZENIOWE                                   9\n",
       "WARUNKI OGÓLNE                                         8\n",
       "ELEMENTY ULIC                                          7\n",
       "ROBOTY ZIEMNE                                          3\n",
       "ODWODNIENIE KORPUSU DROGOWEGO                          2\n",
       "INNE ROBOTY                                            2\n",
       "Name: Kategoria, dtype: int64"
      ]
     },
     "execution_count": 11,
     "metadata": {},
     "output_type": "execute_result"
    }
   ],
   "source": [
    "road_data['Kategoria'].value_counts()"
   ]
  },
  {
   "cell_type": "markdown",
   "id": "b8609c80",
   "metadata": {},
   "source": [
    "**Note**\n",
    "\n",
    "As you can see above,the \"Ilosc, Cena_jedn, Wartosc_calkowita and Rok\" columns contains wrong data type, we will convert them to float and DateTime data type. What is more the \"Kategoria\" column contain incomplete category names. In the next few steps we will fix these errors."
   ]
  },
  {
   "cell_type": "markdown",
   "id": "4273beb1",
   "metadata": {},
   "source": [
    "**Cleaning the \"Kategoria\" column**"
   ]
  },
  {
   "cell_type": "code",
   "execution_count": 12,
   "id": "6efe67d6",
   "metadata": {},
   "outputs": [],
   "source": [
    "road_data['Kategoria_robot'] = road_data['Kategoria'].apply(match_category)"
   ]
  },
  {
   "cell_type": "code",
   "execution_count": 13,
   "id": "d956ea0d",
   "metadata": {},
   "outputs": [],
   "source": [
    "road_data.drop('Kategoria', inplace=True, axis=1)"
   ]
  },
  {
   "cell_type": "code",
   "execution_count": 14,
   "id": "add80570",
   "metadata": {},
   "outputs": [
    {
     "data": {
      "text/html": [
       "<div>\n",
       "<style scoped>\n",
       "    .dataframe tbody tr th:only-of-type {\n",
       "        vertical-align: middle;\n",
       "    }\n",
       "\n",
       "    .dataframe tbody tr th {\n",
       "        vertical-align: top;\n",
       "    }\n",
       "\n",
       "    .dataframe thead th {\n",
       "        text-align: right;\n",
       "    }\n",
       "</style>\n",
       "<table border=\"1\" class=\"dataframe\">\n",
       "  <thead>\n",
       "    <tr style=\"text-align: right;\">\n",
       "      <th></th>\n",
       "      <th>Elementy_rozliczeniowe</th>\n",
       "      <th>Jednostka</th>\n",
       "      <th>Ilosc</th>\n",
       "      <th>Cena_jedn</th>\n",
       "      <th>Wartosc_calkowita</th>\n",
       "      <th>Droga</th>\n",
       "      <th>Rok</th>\n",
       "      <th>Kategoria_robot</th>\n",
       "    </tr>\n",
       "  </thead>\n",
       "  <tbody>\n",
       "    <tr>\n",
       "      <th>3</th>\n",
       "      <td>Koszt dostosowania się do wymagań ogólnych zaw...</td>\n",
       "      <td>ryczałt</td>\n",
       "      <td>1.00</td>\n",
       "      <td>280864.20</td>\n",
       "      <td>280764.20</td>\n",
       "      <td>DK12ZW</td>\n",
       "      <td>2019</td>\n",
       "      <td>WARUNKI OGOLNE</td>\n",
       "    </tr>\n",
       "    <tr>\n",
       "      <th>4</th>\n",
       "      <td>Dokumentacja realizacyjno-technologiczna i dok...</td>\n",
       "      <td>ryczałt</td>\n",
       "      <td>1.00</td>\n",
       "      <td>33703.70</td>\n",
       "      <td>33603.70</td>\n",
       "      <td>DK12ZW</td>\n",
       "      <td>2019</td>\n",
       "      <td>WARUNKI OGOLNE</td>\n",
       "    </tr>\n",
       "    <tr>\n",
       "      <th>5</th>\n",
       "      <td>Koszt utrzymania dróg, po których odbywać się ...</td>\n",
       "      <td>ryczałt</td>\n",
       "      <td>1.00</td>\n",
       "      <td>224691.36</td>\n",
       "      <td>224591.36</td>\n",
       "      <td>DK12ZW</td>\n",
       "      <td>2019</td>\n",
       "      <td>WARUNKI OGOLNE</td>\n",
       "    </tr>\n",
       "    <tr>\n",
       "      <th>6</th>\n",
       "      <td>Saperskie sprawdzenie terenu pod kątem niewypa...</td>\n",
       "      <td>ryczałt</td>\n",
       "      <td>1.00</td>\n",
       "      <td>33703.70</td>\n",
       "      <td>33603.70</td>\n",
       "      <td>DK12ZW</td>\n",
       "      <td>2019</td>\n",
       "      <td>WARUNKI OGOLNE</td>\n",
       "    </tr>\n",
       "    <tr>\n",
       "      <th>7</th>\n",
       "      <td>Nadzór archeologiczny wraz z wykonaniem ratown...</td>\n",
       "      <td>ryczałt</td>\n",
       "      <td>1.00</td>\n",
       "      <td>28086.42</td>\n",
       "      <td>27986.42</td>\n",
       "      <td>DK12ZW</td>\n",
       "      <td>2019</td>\n",
       "      <td>WARUNKI OGOLNE</td>\n",
       "    </tr>\n",
       "    <tr>\n",
       "      <th>...</th>\n",
       "      <td>...</td>\n",
       "      <td>...</td>\n",
       "      <td>...</td>\n",
       "      <td>...</td>\n",
       "      <td>...</td>\n",
       "      <td>...</td>\n",
       "      <td>...</td>\n",
       "      <td>...</td>\n",
       "    </tr>\n",
       "    <tr>\n",
       "      <th>70</th>\n",
       "      <td>pielęgnacja drzew w formie piennej w okresie g...</td>\n",
       "      <td>szt.</td>\n",
       "      <td>1835.00</td>\n",
       "      <td>59.37</td>\n",
       "      <td>108842.25</td>\n",
       "      <td>DK12ZW</td>\n",
       "      <td>2019</td>\n",
       "      <td>ZIELEN DROGOWA</td>\n",
       "    </tr>\n",
       "    <tr>\n",
       "      <th>71</th>\n",
       "      <td>pielęgnacja drzew w formie naturalnej w okresi...</td>\n",
       "      <td>szt.</td>\n",
       "      <td>65.00</td>\n",
       "      <td>59.37</td>\n",
       "      <td>3758.99</td>\n",
       "      <td>DK12ZW</td>\n",
       "      <td>2019</td>\n",
       "      <td>ZIELEN DROGOWA</td>\n",
       "    </tr>\n",
       "    <tr>\n",
       "      <th>72</th>\n",
       "      <td>pielęgnacja krzewów w okresie gwarancji</td>\n",
       "      <td>szt.</td>\n",
       "      <td>1533.00</td>\n",
       "      <td>5.51</td>\n",
       "      <td>8340.79</td>\n",
       "      <td>DK12ZW</td>\n",
       "      <td>2019</td>\n",
       "      <td>ZIELEN DROGOWA</td>\n",
       "    </tr>\n",
       "    <tr>\n",
       "      <th>76</th>\n",
       "      <td>Wykonanie schodów i zejść z elementów betonowy...</td>\n",
       "      <td>m2</td>\n",
       "      <td>51.70</td>\n",
       "      <td>500.89</td>\n",
       "      <td>25796.18</td>\n",
       "      <td>DK12ZW</td>\n",
       "      <td>2019</td>\n",
       "      <td>INNE ROBOTY</td>\n",
       "    </tr>\n",
       "    <tr>\n",
       "      <th>77</th>\n",
       "      <td>Wykonanie balustrady przy schodach terenowych</td>\n",
       "      <td>m</td>\n",
       "      <td>58.96</td>\n",
       "      <td>251.00</td>\n",
       "      <td>14699.12</td>\n",
       "      <td>DK12ZW</td>\n",
       "      <td>2019</td>\n",
       "      <td>INNE ROBOTY</td>\n",
       "    </tr>\n",
       "  </tbody>\n",
       "</table>\n",
       "<p>154 rows × 8 columns</p>\n",
       "</div>"
      ],
      "text/plain": [
       "                               Elementy_rozliczeniowe Jednostka    Ilosc  \\\n",
       "3   Koszt dostosowania się do wymagań ogólnych zaw...   ryczałt     1.00   \n",
       "4   Dokumentacja realizacyjno-technologiczna i dok...   ryczałt     1.00   \n",
       "5   Koszt utrzymania dróg, po których odbywać się ...   ryczałt     1.00   \n",
       "6   Saperskie sprawdzenie terenu pod kątem niewypa...   ryczałt     1.00   \n",
       "7   Nadzór archeologiczny wraz z wykonaniem ratown...   ryczałt     1.00   \n",
       "..                                                ...       ...      ...   \n",
       "70  pielęgnacja drzew w formie piennej w okresie g...      szt.  1835.00   \n",
       "71  pielęgnacja drzew w formie naturalnej w okresi...      szt.    65.00   \n",
       "72            pielęgnacja krzewów w okresie gwarancji      szt.  1533.00   \n",
       "76  Wykonanie schodów i zejść z elementów betonowy...        m2    51.70   \n",
       "77      Wykonanie balustrady przy schodach terenowych         m    58.96   \n",
       "\n",
       "    Cena_jedn Wartosc_calkowita   Droga   Rok Kategoria_robot  \n",
       "3   280864.20         280764.20  DK12ZW  2019  WARUNKI OGOLNE  \n",
       "4    33703.70          33603.70  DK12ZW  2019  WARUNKI OGOLNE  \n",
       "5   224691.36         224591.36  DK12ZW  2019  WARUNKI OGOLNE  \n",
       "6    33703.70          33603.70  DK12ZW  2019  WARUNKI OGOLNE  \n",
       "7    28086.42          27986.42  DK12ZW  2019  WARUNKI OGOLNE  \n",
       "..        ...               ...     ...   ...             ...  \n",
       "70      59.37         108842.25  DK12ZW  2019  ZIELEN DROGOWA  \n",
       "71      59.37           3758.99  DK12ZW  2019  ZIELEN DROGOWA  \n",
       "72       5.51           8340.79  DK12ZW  2019  ZIELEN DROGOWA  \n",
       "76     500.89          25796.18  DK12ZW  2019     INNE ROBOTY  \n",
       "77     251.00          14699.12  DK12ZW  2019     INNE ROBOTY  \n",
       "\n",
       "[154 rows x 8 columns]"
      ]
     },
     "execution_count": 14,
     "metadata": {},
     "output_type": "execute_result"
    }
   ],
   "source": [
    "road_data"
   ]
  },
  {
   "cell_type": "code",
   "execution_count": 15,
   "id": "c1a5a62e",
   "metadata": {},
   "outputs": [],
   "source": [
    "road_data['Ilosc'] = pd.to_numeric(road_data['Ilosc'],errors='coerce')"
   ]
  },
  {
   "cell_type": "markdown",
   "id": "e74e2275",
   "metadata": {},
   "source": [
    "**Cleaning the \"Ilosc\", \"Cena_jedn\" and \"Wartosc_calkowita\" columns**"
   ]
  },
  {
   "cell_type": "code",
   "execution_count": 16,
   "id": "f0f03636",
   "metadata": {},
   "outputs": [],
   "source": [
    "road_data['Ilosc'] = pd.to_numeric(road_data['Ilosc'],errors='coerce')"
   ]
  },
  {
   "cell_type": "code",
   "execution_count": 17,
   "id": "7b1734e4",
   "metadata": {},
   "outputs": [],
   "source": [
    "road_data['Cena_jedn'] = pd.to_numeric(road_data['Cena_jedn'],errors='coerce')"
   ]
  },
  {
   "cell_type": "code",
   "execution_count": 18,
   "id": "3c8fc91a",
   "metadata": {},
   "outputs": [],
   "source": [
    "road_data['Wartosc_calkowita'] = pd.to_numeric(road_data['Wartosc_calkowita'],errors='coerce')"
   ]
  },
  {
   "cell_type": "markdown",
   "id": "a9210ede",
   "metadata": {},
   "source": [
    "**Cleaning the \"Rok\" column**"
   ]
  },
  {
   "cell_type": "code",
   "execution_count": 19,
   "id": "d2f52c33",
   "metadata": {},
   "outputs": [],
   "source": [
    "road_data['Rok'] = pd.to_numeric(road_data['Rok'],errors='coerce')"
   ]
  },
  {
   "cell_type": "code",
   "execution_count": 20,
   "id": "d142564c",
   "metadata": {},
   "outputs": [],
   "source": [
    "road_data['Rok'] = pd.to_datetime(road_data['Rok'],format='%Y')"
   ]
  },
  {
   "cell_type": "code",
   "execution_count": 21,
   "id": "6aac08ce",
   "metadata": {},
   "outputs": [
    {
     "data": {
      "text/html": [
       "<div>\n",
       "<style scoped>\n",
       "    .dataframe tbody tr th:only-of-type {\n",
       "        vertical-align: middle;\n",
       "    }\n",
       "\n",
       "    .dataframe tbody tr th {\n",
       "        vertical-align: top;\n",
       "    }\n",
       "\n",
       "    .dataframe thead th {\n",
       "        text-align: right;\n",
       "    }\n",
       "</style>\n",
       "<table border=\"1\" class=\"dataframe\">\n",
       "  <thead>\n",
       "    <tr style=\"text-align: right;\">\n",
       "      <th></th>\n",
       "      <th>Elementy_rozliczeniowe</th>\n",
       "      <th>Jednostka</th>\n",
       "      <th>Ilosc</th>\n",
       "      <th>Cena_jedn</th>\n",
       "      <th>Wartosc_calkowita</th>\n",
       "      <th>Droga</th>\n",
       "      <th>Rok</th>\n",
       "      <th>Kategoria_robot</th>\n",
       "    </tr>\n",
       "  </thead>\n",
       "  <tbody>\n",
       "    <tr>\n",
       "      <th>3</th>\n",
       "      <td>Koszt dostosowania się do wymagań ogólnych zaw...</td>\n",
       "      <td>ryczałt</td>\n",
       "      <td>1.00</td>\n",
       "      <td>280864.20</td>\n",
       "      <td>280764.20</td>\n",
       "      <td>DK12ZW</td>\n",
       "      <td>2019-01-01</td>\n",
       "      <td>WARUNKI OGOLNE</td>\n",
       "    </tr>\n",
       "    <tr>\n",
       "      <th>4</th>\n",
       "      <td>Dokumentacja realizacyjno-technologiczna i dok...</td>\n",
       "      <td>ryczałt</td>\n",
       "      <td>1.00</td>\n",
       "      <td>33703.70</td>\n",
       "      <td>33603.70</td>\n",
       "      <td>DK12ZW</td>\n",
       "      <td>2019-01-01</td>\n",
       "      <td>WARUNKI OGOLNE</td>\n",
       "    </tr>\n",
       "    <tr>\n",
       "      <th>5</th>\n",
       "      <td>Koszt utrzymania dróg, po których odbywać się ...</td>\n",
       "      <td>ryczałt</td>\n",
       "      <td>1.00</td>\n",
       "      <td>224691.36</td>\n",
       "      <td>224591.36</td>\n",
       "      <td>DK12ZW</td>\n",
       "      <td>2019-01-01</td>\n",
       "      <td>WARUNKI OGOLNE</td>\n",
       "    </tr>\n",
       "    <tr>\n",
       "      <th>6</th>\n",
       "      <td>Saperskie sprawdzenie terenu pod kątem niewypa...</td>\n",
       "      <td>ryczałt</td>\n",
       "      <td>1.00</td>\n",
       "      <td>33703.70</td>\n",
       "      <td>33603.70</td>\n",
       "      <td>DK12ZW</td>\n",
       "      <td>2019-01-01</td>\n",
       "      <td>WARUNKI OGOLNE</td>\n",
       "    </tr>\n",
       "    <tr>\n",
       "      <th>7</th>\n",
       "      <td>Nadzór archeologiczny wraz z wykonaniem ratown...</td>\n",
       "      <td>ryczałt</td>\n",
       "      <td>1.00</td>\n",
       "      <td>28086.42</td>\n",
       "      <td>27986.42</td>\n",
       "      <td>DK12ZW</td>\n",
       "      <td>2019-01-01</td>\n",
       "      <td>WARUNKI OGOLNE</td>\n",
       "    </tr>\n",
       "    <tr>\n",
       "      <th>...</th>\n",
       "      <td>...</td>\n",
       "      <td>...</td>\n",
       "      <td>...</td>\n",
       "      <td>...</td>\n",
       "      <td>...</td>\n",
       "      <td>...</td>\n",
       "      <td>...</td>\n",
       "      <td>...</td>\n",
       "    </tr>\n",
       "    <tr>\n",
       "      <th>70</th>\n",
       "      <td>pielęgnacja drzew w formie piennej w okresie g...</td>\n",
       "      <td>szt.</td>\n",
       "      <td>1835.00</td>\n",
       "      <td>59.37</td>\n",
       "      <td>108842.25</td>\n",
       "      <td>DK12ZW</td>\n",
       "      <td>2019-01-01</td>\n",
       "      <td>ZIELEN DROGOWA</td>\n",
       "    </tr>\n",
       "    <tr>\n",
       "      <th>71</th>\n",
       "      <td>pielęgnacja drzew w formie naturalnej w okresi...</td>\n",
       "      <td>szt.</td>\n",
       "      <td>65.00</td>\n",
       "      <td>59.37</td>\n",
       "      <td>3758.99</td>\n",
       "      <td>DK12ZW</td>\n",
       "      <td>2019-01-01</td>\n",
       "      <td>ZIELEN DROGOWA</td>\n",
       "    </tr>\n",
       "    <tr>\n",
       "      <th>72</th>\n",
       "      <td>pielęgnacja krzewów w okresie gwarancji</td>\n",
       "      <td>szt.</td>\n",
       "      <td>1533.00</td>\n",
       "      <td>5.51</td>\n",
       "      <td>8340.79</td>\n",
       "      <td>DK12ZW</td>\n",
       "      <td>2019-01-01</td>\n",
       "      <td>ZIELEN DROGOWA</td>\n",
       "    </tr>\n",
       "    <tr>\n",
       "      <th>76</th>\n",
       "      <td>Wykonanie schodów i zejść z elementów betonowy...</td>\n",
       "      <td>m2</td>\n",
       "      <td>51.70</td>\n",
       "      <td>500.89</td>\n",
       "      <td>25796.18</td>\n",
       "      <td>DK12ZW</td>\n",
       "      <td>2019-01-01</td>\n",
       "      <td>INNE ROBOTY</td>\n",
       "    </tr>\n",
       "    <tr>\n",
       "      <th>77</th>\n",
       "      <td>Wykonanie balustrady przy schodach terenowych</td>\n",
       "      <td>m</td>\n",
       "      <td>58.96</td>\n",
       "      <td>251.00</td>\n",
       "      <td>14699.12</td>\n",
       "      <td>DK12ZW</td>\n",
       "      <td>2019-01-01</td>\n",
       "      <td>INNE ROBOTY</td>\n",
       "    </tr>\n",
       "  </tbody>\n",
       "</table>\n",
       "<p>154 rows × 8 columns</p>\n",
       "</div>"
      ],
      "text/plain": [
       "                               Elementy_rozliczeniowe Jednostka    Ilosc  \\\n",
       "3   Koszt dostosowania się do wymagań ogólnych zaw...   ryczałt     1.00   \n",
       "4   Dokumentacja realizacyjno-technologiczna i dok...   ryczałt     1.00   \n",
       "5   Koszt utrzymania dróg, po których odbywać się ...   ryczałt     1.00   \n",
       "6   Saperskie sprawdzenie terenu pod kątem niewypa...   ryczałt     1.00   \n",
       "7   Nadzór archeologiczny wraz z wykonaniem ratown...   ryczałt     1.00   \n",
       "..                                                ...       ...      ...   \n",
       "70  pielęgnacja drzew w formie piennej w okresie g...      szt.  1835.00   \n",
       "71  pielęgnacja drzew w formie naturalnej w okresi...      szt.    65.00   \n",
       "72            pielęgnacja krzewów w okresie gwarancji      szt.  1533.00   \n",
       "76  Wykonanie schodów i zejść z elementów betonowy...        m2    51.70   \n",
       "77      Wykonanie balustrady przy schodach terenowych         m    58.96   \n",
       "\n",
       "    Cena_jedn  Wartosc_calkowita   Droga        Rok Kategoria_robot  \n",
       "3   280864.20          280764.20  DK12ZW 2019-01-01  WARUNKI OGOLNE  \n",
       "4    33703.70           33603.70  DK12ZW 2019-01-01  WARUNKI OGOLNE  \n",
       "5   224691.36          224591.36  DK12ZW 2019-01-01  WARUNKI OGOLNE  \n",
       "6    33703.70           33603.70  DK12ZW 2019-01-01  WARUNKI OGOLNE  \n",
       "7    28086.42           27986.42  DK12ZW 2019-01-01  WARUNKI OGOLNE  \n",
       "..        ...                ...     ...        ...             ...  \n",
       "70      59.37          108842.25  DK12ZW 2019-01-01  ZIELEN DROGOWA  \n",
       "71      59.37            3758.99  DK12ZW 2019-01-01  ZIELEN DROGOWA  \n",
       "72       5.51            8340.79  DK12ZW 2019-01-01  ZIELEN DROGOWA  \n",
       "76     500.89           25796.18  DK12ZW 2019-01-01     INNE ROBOTY  \n",
       "77     251.00           14699.12  DK12ZW 2019-01-01     INNE ROBOTY  \n",
       "\n",
       "[154 rows x 8 columns]"
      ]
     },
     "execution_count": 21,
     "metadata": {},
     "output_type": "execute_result"
    }
   ],
   "source": [
    "road_data"
   ]
  },
  {
   "cell_type": "code",
   "execution_count": 22,
   "id": "8b626263",
   "metadata": {},
   "outputs": [
    {
     "name": "stdout",
     "output_type": "stream",
     "text": [
      "<class 'pandas.core.frame.DataFrame'>\n",
      "Int64Index: 154 entries, 3 to 77\n",
      "Data columns (total 8 columns):\n",
      " #   Column                  Non-Null Count  Dtype         \n",
      "---  ------                  --------------  -----         \n",
      " 0   Elementy_rozliczeniowe  154 non-null    object        \n",
      " 1   Jednostka               154 non-null    object        \n",
      " 2   Ilosc                   154 non-null    float64       \n",
      " 3   Cena_jedn               154 non-null    float64       \n",
      " 4   Wartosc_calkowita       154 non-null    float64       \n",
      " 5   Droga                   154 non-null    object        \n",
      " 6   Rok                     154 non-null    datetime64[ns]\n",
      " 7   Kategoria_robot         154 non-null    object        \n",
      "dtypes: datetime64[ns](1), float64(3), object(4)\n",
      "memory usage: 10.8+ KB\n"
     ]
    }
   ],
   "source": [
    "road_data.info()"
   ]
  },
  {
   "cell_type": "code",
   "execution_count": 23,
   "id": "82a378d8",
   "metadata": {},
   "outputs": [],
   "source": [
    "road_data['Kategoria_drogi'] = road_data['Droga'].str[0:2].apply(road_category)"
   ]
  },
  {
   "cell_type": "code",
   "execution_count": 24,
   "id": "d76ca14f",
   "metadata": {},
   "outputs": [
    {
     "data": {
      "text/html": [
       "<div>\n",
       "<style scoped>\n",
       "    .dataframe tbody tr th:only-of-type {\n",
       "        vertical-align: middle;\n",
       "    }\n",
       "\n",
       "    .dataframe tbody tr th {\n",
       "        vertical-align: top;\n",
       "    }\n",
       "\n",
       "    .dataframe thead th {\n",
       "        text-align: right;\n",
       "    }\n",
       "</style>\n",
       "<table border=\"1\" class=\"dataframe\">\n",
       "  <thead>\n",
       "    <tr style=\"text-align: right;\">\n",
       "      <th></th>\n",
       "      <th>Elementy_rozliczeniowe</th>\n",
       "      <th>Jednostka</th>\n",
       "      <th>Ilosc</th>\n",
       "      <th>Cena_jedn</th>\n",
       "      <th>Wartosc_calkowita</th>\n",
       "      <th>Droga</th>\n",
       "      <th>Rok</th>\n",
       "      <th>Kategoria_robot</th>\n",
       "      <th>Kategoria_drogi</th>\n",
       "    </tr>\n",
       "  </thead>\n",
       "  <tbody>\n",
       "    <tr>\n",
       "      <th>3</th>\n",
       "      <td>Koszt dostosowania się do wymagań ogólnych zaw...</td>\n",
       "      <td>ryczałt</td>\n",
       "      <td>1.00</td>\n",
       "      <td>280864.20</td>\n",
       "      <td>280764.20</td>\n",
       "      <td>DK12ZW</td>\n",
       "      <td>2019-01-01</td>\n",
       "      <td>WARUNKI OGOLNE</td>\n",
       "      <td>Krajowa</td>\n",
       "    </tr>\n",
       "    <tr>\n",
       "      <th>4</th>\n",
       "      <td>Dokumentacja realizacyjno-technologiczna i dok...</td>\n",
       "      <td>ryczałt</td>\n",
       "      <td>1.00</td>\n",
       "      <td>33703.70</td>\n",
       "      <td>33603.70</td>\n",
       "      <td>DK12ZW</td>\n",
       "      <td>2019-01-01</td>\n",
       "      <td>WARUNKI OGOLNE</td>\n",
       "      <td>Krajowa</td>\n",
       "    </tr>\n",
       "    <tr>\n",
       "      <th>5</th>\n",
       "      <td>Koszt utrzymania dróg, po których odbywać się ...</td>\n",
       "      <td>ryczałt</td>\n",
       "      <td>1.00</td>\n",
       "      <td>224691.36</td>\n",
       "      <td>224591.36</td>\n",
       "      <td>DK12ZW</td>\n",
       "      <td>2019-01-01</td>\n",
       "      <td>WARUNKI OGOLNE</td>\n",
       "      <td>Krajowa</td>\n",
       "    </tr>\n",
       "    <tr>\n",
       "      <th>6</th>\n",
       "      <td>Saperskie sprawdzenie terenu pod kątem niewypa...</td>\n",
       "      <td>ryczałt</td>\n",
       "      <td>1.00</td>\n",
       "      <td>33703.70</td>\n",
       "      <td>33603.70</td>\n",
       "      <td>DK12ZW</td>\n",
       "      <td>2019-01-01</td>\n",
       "      <td>WARUNKI OGOLNE</td>\n",
       "      <td>Krajowa</td>\n",
       "    </tr>\n",
       "    <tr>\n",
       "      <th>7</th>\n",
       "      <td>Nadzór archeologiczny wraz z wykonaniem ratown...</td>\n",
       "      <td>ryczałt</td>\n",
       "      <td>1.00</td>\n",
       "      <td>28086.42</td>\n",
       "      <td>27986.42</td>\n",
       "      <td>DK12ZW</td>\n",
       "      <td>2019-01-01</td>\n",
       "      <td>WARUNKI OGOLNE</td>\n",
       "      <td>Krajowa</td>\n",
       "    </tr>\n",
       "    <tr>\n",
       "      <th>...</th>\n",
       "      <td>...</td>\n",
       "      <td>...</td>\n",
       "      <td>...</td>\n",
       "      <td>...</td>\n",
       "      <td>...</td>\n",
       "      <td>...</td>\n",
       "      <td>...</td>\n",
       "      <td>...</td>\n",
       "      <td>...</td>\n",
       "    </tr>\n",
       "    <tr>\n",
       "      <th>70</th>\n",
       "      <td>pielęgnacja drzew w formie piennej w okresie g...</td>\n",
       "      <td>szt.</td>\n",
       "      <td>1835.00</td>\n",
       "      <td>59.37</td>\n",
       "      <td>108842.25</td>\n",
       "      <td>DK12ZW</td>\n",
       "      <td>2019-01-01</td>\n",
       "      <td>ZIELEN DROGOWA</td>\n",
       "      <td>Krajowa</td>\n",
       "    </tr>\n",
       "    <tr>\n",
       "      <th>71</th>\n",
       "      <td>pielęgnacja drzew w formie naturalnej w okresi...</td>\n",
       "      <td>szt.</td>\n",
       "      <td>65.00</td>\n",
       "      <td>59.37</td>\n",
       "      <td>3758.99</td>\n",
       "      <td>DK12ZW</td>\n",
       "      <td>2019-01-01</td>\n",
       "      <td>ZIELEN DROGOWA</td>\n",
       "      <td>Krajowa</td>\n",
       "    </tr>\n",
       "    <tr>\n",
       "      <th>72</th>\n",
       "      <td>pielęgnacja krzewów w okresie gwarancji</td>\n",
       "      <td>szt.</td>\n",
       "      <td>1533.00</td>\n",
       "      <td>5.51</td>\n",
       "      <td>8340.79</td>\n",
       "      <td>DK12ZW</td>\n",
       "      <td>2019-01-01</td>\n",
       "      <td>ZIELEN DROGOWA</td>\n",
       "      <td>Krajowa</td>\n",
       "    </tr>\n",
       "    <tr>\n",
       "      <th>76</th>\n",
       "      <td>Wykonanie schodów i zejść z elementów betonowy...</td>\n",
       "      <td>m2</td>\n",
       "      <td>51.70</td>\n",
       "      <td>500.89</td>\n",
       "      <td>25796.18</td>\n",
       "      <td>DK12ZW</td>\n",
       "      <td>2019-01-01</td>\n",
       "      <td>INNE ROBOTY</td>\n",
       "      <td>Krajowa</td>\n",
       "    </tr>\n",
       "    <tr>\n",
       "      <th>77</th>\n",
       "      <td>Wykonanie balustrady przy schodach terenowych</td>\n",
       "      <td>m</td>\n",
       "      <td>58.96</td>\n",
       "      <td>251.00</td>\n",
       "      <td>14699.12</td>\n",
       "      <td>DK12ZW</td>\n",
       "      <td>2019-01-01</td>\n",
       "      <td>INNE ROBOTY</td>\n",
       "      <td>Krajowa</td>\n",
       "    </tr>\n",
       "  </tbody>\n",
       "</table>\n",
       "<p>154 rows × 9 columns</p>\n",
       "</div>"
      ],
      "text/plain": [
       "                               Elementy_rozliczeniowe Jednostka    Ilosc  \\\n",
       "3   Koszt dostosowania się do wymagań ogólnych zaw...   ryczałt     1.00   \n",
       "4   Dokumentacja realizacyjno-technologiczna i dok...   ryczałt     1.00   \n",
       "5   Koszt utrzymania dróg, po których odbywać się ...   ryczałt     1.00   \n",
       "6   Saperskie sprawdzenie terenu pod kątem niewypa...   ryczałt     1.00   \n",
       "7   Nadzór archeologiczny wraz z wykonaniem ratown...   ryczałt     1.00   \n",
       "..                                                ...       ...      ...   \n",
       "70  pielęgnacja drzew w formie piennej w okresie g...      szt.  1835.00   \n",
       "71  pielęgnacja drzew w formie naturalnej w okresi...      szt.    65.00   \n",
       "72            pielęgnacja krzewów w okresie gwarancji      szt.  1533.00   \n",
       "76  Wykonanie schodów i zejść z elementów betonowy...        m2    51.70   \n",
       "77      Wykonanie balustrady przy schodach terenowych         m    58.96   \n",
       "\n",
       "    Cena_jedn  Wartosc_calkowita   Droga        Rok Kategoria_robot  \\\n",
       "3   280864.20          280764.20  DK12ZW 2019-01-01  WARUNKI OGOLNE   \n",
       "4    33703.70           33603.70  DK12ZW 2019-01-01  WARUNKI OGOLNE   \n",
       "5   224691.36          224591.36  DK12ZW 2019-01-01  WARUNKI OGOLNE   \n",
       "6    33703.70           33603.70  DK12ZW 2019-01-01  WARUNKI OGOLNE   \n",
       "7    28086.42           27986.42  DK12ZW 2019-01-01  WARUNKI OGOLNE   \n",
       "..        ...                ...     ...        ...             ...   \n",
       "70      59.37          108842.25  DK12ZW 2019-01-01  ZIELEN DROGOWA   \n",
       "71      59.37            3758.99  DK12ZW 2019-01-01  ZIELEN DROGOWA   \n",
       "72       5.51            8340.79  DK12ZW 2019-01-01  ZIELEN DROGOWA   \n",
       "76     500.89           25796.18  DK12ZW 2019-01-01     INNE ROBOTY   \n",
       "77     251.00           14699.12  DK12ZW 2019-01-01     INNE ROBOTY   \n",
       "\n",
       "   Kategoria_drogi  \n",
       "3          Krajowa  \n",
       "4          Krajowa  \n",
       "5          Krajowa  \n",
       "6          Krajowa  \n",
       "7          Krajowa  \n",
       "..             ...  \n",
       "70         Krajowa  \n",
       "71         Krajowa  \n",
       "72         Krajowa  \n",
       "76         Krajowa  \n",
       "77         Krajowa  \n",
       "\n",
       "[154 rows x 9 columns]"
      ]
     },
     "execution_count": 24,
     "metadata": {},
     "output_type": "execute_result"
    }
   ],
   "source": [
    "road_data"
   ]
  },
  {
   "cell_type": "code",
   "execution_count": 25,
   "id": "ee625839",
   "metadata": {},
   "outputs": [
    {
     "data": {
      "text/plain": [
       "Krajowa    154\n",
       "Name: Kategoria_drogi, dtype: int64"
      ]
     },
     "execution_count": 25,
     "metadata": {},
     "output_type": "execute_result"
    }
   ],
   "source": [
    "road_data['Kategoria_drogi'].value_counts()"
   ]
  },
  {
   "cell_type": "markdown",
   "id": "cbb5ee04",
   "metadata": {},
   "source": [
    "**Note**\n"
   ]
  },
  {
   "cell_type": "code",
   "execution_count": null,
   "id": "e40cf558",
   "metadata": {},
   "outputs": [],
   "source": []
  }
 ],
 "metadata": {
  "kernelspec": {
   "display_name": "AnalizaDanych",
   "language": "python",
   "name": "analizadanych"
  },
  "language_info": {
   "codemirror_mode": {
    "name": "ipython",
    "version": 3
   },
   "file_extension": ".py",
   "mimetype": "text/x-python",
   "name": "python",
   "nbconvert_exporter": "python",
   "pygments_lexer": "ipython3",
   "version": "3.8.5"
  }
 },
 "nbformat": 4,
 "nbformat_minor": 5
}
